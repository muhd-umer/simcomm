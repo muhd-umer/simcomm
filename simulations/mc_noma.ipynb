{
 "cells": [
  {
   "attachments": {},
   "cell_type": "markdown",
   "metadata": {},
   "source": [
    "## Multi-Cell NOMA"
   ]
  },
  {
   "attachments": {},
   "cell_type": "markdown",
   "metadata": {},
   "source": [
    "### Necessary Imports"
   ]
  },
  {
   "cell_type": "code",
   "execution_count": null,
   "metadata": {},
   "outputs": [],
   "source": [
    "import os\n",
    "import sys\n",
    "\n",
    "sys.path.append(os.path.abspath(\"..\"))\n",
    "\n",
    "import matplotlib.pyplot as plt\n",
    "import numpy as np\n",
    "import simcomm.metrics as metrics\n",
    "import simcomm.utils as utils\n",
    "from simcomm.channel import get_channel, get_fading\n",
    "from simcomm.visualize import plot_network\n",
    "\n",
    "plt.style.use(\"default\")\n",
    "plt.rcParams[\"figure.figsize\"] = (6, 4)\n",
    "\n",
    "os.makedirs(\"./data/mc_noma\", exist_ok=True)\n",
    "save_dir = os.path.abspath(\"./data/mc_noma/\")"
   ]
  },
  {
   "attachments": {},
   "cell_type": "markdown",
   "metadata": {},
   "source": [
    "### System Model"
   ]
  },
  {
   "attachments": {},
   "cell_type": "markdown",
   "metadata": {},
   "source": [
    "Parameters"
   ]
  },
  {
   "cell_type": "code",
   "execution_count": null,
   "metadata": {},
   "outputs": [],
   "source": [
    "# Multi-cell NOMA\n",
    "N = 3  # Number of users\n",
    "N_index = np.arange(N)  # Index of users\n",
    "M = 2  # Number of BSs\n",
    "M_index = np.arange(M)  # Index of BSs\n",
    "T = 290  # Temperature in Kelvin\n",
    "BANDWIDTH = 10e6  # bandwidth in Hz\n",
    "NOISE = utils.get_noise(BANDWIDTH, T, 43)  # noise power in dBm\n",
    "NOISE_LIN = utils.dbm2pow(NOISE)  # noise power in linear scale\n",
    "S = 10000  # Number of monte carlo simulations\n",
    "\n",
    "# Power parameters\n",
    "Pt = np.linspace(-40, 20, 120)  # transmit power in dBm\n",
    "Pt_lin = utils.dbm2pow(Pt)  # transmit power in linear scale\n",
    "P_circuit = 10e-5  # circuit power in Watts"
   ]
  },
  {
   "attachments": {},
   "cell_type": "markdown",
   "metadata": {},
   "source": [
    "Creating Layout (Example)"
   ]
  },
  {
   "cell_type": "code",
   "execution_count": null,
   "metadata": {},
   "outputs": [],
   "source": [
    "# Placing the base stations\n",
    "bs_pos = np.array([[-200, 0, 10], [200, 30, 10]])\n",
    "user_pos = np.array([[-160, 90, 0], [15, -30, 0], [160, -10, 0]])\n",
    "\n",
    "# Plotting the network\n",
    "plot_network(300, 230, bs_pos, user_pos)"
   ]
  },
  {
   "attachments": {},
   "cell_type": "markdown",
   "metadata": {},
   "source": [
    "### Monte Carlo Simulations"
   ]
  },
  {
   "cell_type": "code",
   "execution_count": null,
   "metadata": {},
   "outputs": [],
   "source": [
    "rate = np.zeros((S, N))\n",
    "sum_rate = np.zeros((S, len(Pt_lin)))\n",
    "outage = np.zeros((S, N, len(Pt_lin)))\n",
    "energy_eff = np.zeros((S, len(Pt_lin)))\n",
    "spectral_eff = np.zeros((S, len(Pt_lin)))\n",
    "target_rate = 1\n",
    "\n",
    "for mc in range(S):\n",
    "    utils.randomize_user_pos(bs_pos, user_pos, edge_idx=1, r_min=30, r_max=90)\n",
    "\n",
    "    # Find distances between users and base stations\n",
    "    distance_mat = np.zeros((M, N), dtype=np.float64)\n",
    "\n",
    "    for m in range(M):\n",
    "        for n in range(N):\n",
    "            distance_mat[m, n] = utils.distance(bs_pos[m], user_pos[n], dim=3)\n",
    "\n",
    "    # Compute the channel gains\n",
    "    g = np.zeros((M, N), dtype=np.float64)\n",
    "\n",
    "    for m in range(M):\n",
    "        for n in range(N):\n",
    "            ETA = 3.5 if (n == 0 or n == 2) else 4\n",
    "            g[m, n] = (\n",
    "                np.abs(get_channel(get_fading(\"rayleigh\"), distance_mat[m, n], ETA))\n",
    "                ** 2\n",
    "            )\n",
    "\n",
    "    # Assigning alpha factors for fixed allocation\n",
    "    alpha_1f = np.random.uniform(0.7, 0.9)  # for cell-edge user by BS 1\n",
    "    alpha_2f = np.random.uniform(0.7, 0.8)  # for cell-edge user by BS 2\n",
    "\n",
    "    for i in range(len(Pt_lin)):\n",
    "        # Rate for user 1\n",
    "        gamma_1c = Pt_lin[i] * g[0, 0] / (NOISE_LIN)  # 1c: center user of cell 1 (BS 1)\n",
    "        rate[mc, 0] = np.log2(1 + ((1 - alpha_1f) * gamma_1c))\n",
    "\n",
    "        # Rate for user 3\n",
    "        gamma_2c = Pt_lin[i] * g[1, 2] / (NOISE_LIN)  # 2c: center user of cell 2 (BS 2)\n",
    "        rate[mc, 2] = np.log2(1 + ((1 - alpha_2f) * gamma_2c))\n",
    "\n",
    "        # Rate for user 2\n",
    "        gamma_1f = (\n",
    "            Pt_lin[i] * g[0, 1] / (Pt_lin[i] * g[1, 1] + NOISE_LIN)\n",
    "        )  # 1f: edge user of cell 1 (BS 1)\n",
    "        gamma_2f = (\n",
    "            Pt_lin[i] * g[1, 1] / (Pt_lin[i] * g[0, 1] + NOISE_LIN)\n",
    "        )  # 2f: edge user of cell 2 (BS 2)\n",
    "        rate[mc, 1] = np.log2(\n",
    "            1\n",
    "            + ((alpha_1f * gamma_1f) + (alpha_2f * gamma_2f))\n",
    "            / (((1 - alpha_1f) * gamma_1f) + ((1 - alpha_2f) * gamma_2f) + 1)\n",
    "        )\n",
    "\n",
    "        # Sum rate\n",
    "        sum_rate[mc, i] = np.sum(rate[mc, :])\n",
    "\n",
    "        # Outage\n",
    "        outage[mc, 0, i] = metrics.outage_probability(rate[mc, 0], target_rate)\n",
    "        outage[mc, 1, i] = metrics.outage_probability(rate[mc, 1], target_rate)\n",
    "        outage[mc, 2, i] = metrics.outage_probability(rate[mc, 2], target_rate)\n",
    "\n",
    "        # Energy efficiency\n",
    "        energy_eff[mc, i] = sum_rate[mc, i] / (Pt_lin[i] + P_circuit)\n",
    "\n",
    "        # Spectral efficiency\n",
    "        spectral_eff[mc, i] = sum_rate[mc, i]  # already normalized by bandwidth\n",
    "\n",
    "# Averaging over all monte carlo simulations\n",
    "avg_sum_rate = np.mean(sum_rate, axis=0)\n",
    "avg_outage = np.mean(outage, axis=0)\n",
    "avg_energy_eff = np.mean(energy_eff, axis=0)\n",
    "avg_spectral_eff = np.mean(spectral_eff, axis=0)"
   ]
  },
  {
   "attachments": {},
   "cell_type": "markdown",
   "metadata": {},
   "source": [
    "### Plots"
   ]
  },
  {
   "cell_type": "code",
   "execution_count": null,
   "metadata": {},
   "outputs": [],
   "source": [
    "# Sum rate vs transmit power\n",
    "np.save(os.path.join(save_dir, \"sum_rate.npy\"), avg_sum_rate)\n",
    "\n",
    "fig = plt.figure(figsize=(6, 4))\n",
    "plt.plot(\n",
    "    Pt, avg_sum_rate, \"b-\", label=\"Sum Rate\", linewidth=1, marker=\"d\", markevery=12\n",
    ")\n",
    "plt.xlabel(\"Transmit Power (dBm)\")\n",
    "plt.ylabel(\"Rate (bps/Hz)\")\n",
    "plt.title(\"Sum Rate vs Transmit Power\")\n",
    "plt.legend()\n",
    "plt.grid()\n",
    "plt.savefig(os.path.join(save_dir, \"sum_rate.pdf\"), bbox_inches=\"tight\")\n",
    "plt.show()"
   ]
  },
  {
   "cell_type": "code",
   "execution_count": null,
   "metadata": {},
   "outputs": [],
   "source": [
    "# Outage probability vs transmit power\n",
    "window_size = 12\n",
    "rolling_outage = np.zeros((N, len(Pt)))\n",
    "for i in range(N):\n",
    "    rolling_outage[i] = utils.rolling_mean(avg_outage[i], window_size)\n",
    "\n",
    "np.save(os.path.join(save_dir, \"outage.npy\"), rolling_outage)\n",
    "\n",
    "fig, ax = plt.subplots(figsize=(6, 4))\n",
    "plt.semilogy(Pt, rolling_outage[0], label=\"User 1\", marker=\"o\", markevery=12)\n",
    "plt.semilogy(Pt, rolling_outage[1], label=\"User 2 (ICI)\", marker=\"s\", markevery=12)\n",
    "plt.semilogy(Pt, rolling_outage[2], label=\"User 3\", marker=\"d\", markevery=12)\n",
    "plt.xlabel(\"Transmit Power (dBm)\")\n",
    "plt.ylabel(\"Outage Probability\")\n",
    "plt.title(\"Outage Probability vs Transmit Power\")\n",
    "plt.xlim(-40, 20)\n",
    "plt.ylim(1e-3, None)\n",
    "plt.legend()\n",
    "plt.grid(which=\"both\")\n",
    "plt.savefig(os.path.join(save_dir, \"outage.pdf\"), bbox_inches=\"tight\")\n",
    "plt.show()"
   ]
  },
  {
   "cell_type": "code",
   "execution_count": null,
   "metadata": {},
   "outputs": [],
   "source": [
    "# SE-EE tradeoff\n",
    "np.save(os.path.join(save_dir, \"avg_spectral_eff.npy\"), avg_spectral_eff)\n",
    "np.save(os.path.join(save_dir, \"avg_energy_eff.npy\"), avg_energy_eff)\n",
    "\n",
    "fig, ax = plt.subplots(figsize=(6, 4))\n",
    "plt.plot(avg_spectral_eff, avg_energy_eff, \"b-\", linewidth=1)\n",
    "plt.xlabel(\"Spectral Efficiency (bps/Hz)\")\n",
    "plt.ylabel(\"Energy Efficiency (bps/Joule)\")\n",
    "plt.title(\"SE-EE Tradeoff\")\n",
    "plt.grid()\n",
    "\n",
    "# Find the peak point\n",
    "peak_idx = np.argmax(avg_energy_eff)\n",
    "peak_x = avg_spectral_eff[peak_idx]\n",
    "peak_y = avg_energy_eff[peak_idx]\n",
    "\n",
    "# Add a marker at the peak point\n",
    "plt.plot(peak_x, peak_y, marker=\"d\", markersize=8, color=\"black\", label=\"Optimal Point\")\n",
    "plt.legend()\n",
    "\n",
    "plt.ticklabel_format(axis=\"y\", style=\"sci\", scilimits=(0, 0))\n",
    "plt.savefig(os.path.join(save_dir, \"se_ee_tradeoff.pdf\"), bbox_inches=\"tight\")\n",
    "plt.show()"
   ]
  }
 ],
 "metadata": {
  "kernelspec": {
   "display_name": "fyp",
   "language": "python",
   "name": "python3"
  },
  "language_info": {
   "codemirror_mode": {
    "name": "ipython",
    "version": 3
   },
   "file_extension": ".py",
   "mimetype": "text/x-python",
   "name": "python",
   "nbconvert_exporter": "python",
   "pygments_lexer": "ipython3",
   "version": "3.10.11"
  },
  "orig_nbformat": 4
 },
 "nbformat": 4,
 "nbformat_minor": 2
}
