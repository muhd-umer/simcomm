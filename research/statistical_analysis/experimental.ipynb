{
 "cells": [
  {
   "cell_type": "code",
   "execution_count": 5,
   "metadata": {},
   "outputs": [],
   "source": [
    "import argparse\n",
    "import os\n",
    "\n",
    "import numpy as np\n",
    "from config import constants, environment, setting\n",
    "import matplotlib.pyplot as plt\n",
    "\n",
    "import simcomm.core.propagation as prop\n",
    "from simcomm.core import STAR, LinkCollection, Receiver, Simulator, Transmitter\n",
    "from simcomm.utils import dbm2pow, pow2db, pow2dbm, db2pow, qfunc\n",
    "from colorama import Fore, Style"
   ]
  },
  {
   "cell_type": "code",
   "execution_count": 13,
   "metadata": {},
   "outputs": [],
   "source": [
    "environment = {\n",
    "    \"positions\": {\n",
    "        \"BS1\": [-50, 0, 25],  # BS1 position\n",
    "        \"BS2\": [50, 0, 25],  # BS2 position\n",
    "        \"RIS\": [0, 25, 5],  # RIS position\n",
    "        \"Uf\": [0, 35, 1],  # Uf position\n",
    "        \"U1c\": [-40, 18, 1],  # U1c position\n",
    "        \"U2c\": [30, 22, 1],  # U2c position\n",
    "    },\n",
    "    \"fading\": {\n",
    "        \"rayleigh\": {\"type\": \"rayleigh\", \"sigma\": 1},  # Rayleigh fading\n",
    "        \"ricianE\": {\n",
    "            \"type\": \"rician\",\n",
    "            \"K\": 4,\n",
    "            \"sigma\": 1,\n",
    "        },  # Rician fading for edge users\n",
    "        \"ricianC\": {\n",
    "            \"type\": \"rician\",\n",
    "            \"K\": 3,\n",
    "            \"sigma\": 1,\n",
    "        },  # Rician fading for center users\n",
    "    },\n",
    "    \"pathloss\": {\n",
    "        \"center\": {\"type\": \"free-space\", \"alpha\": 3, \"p0\": 30},  # Center users\n",
    "        \"ris\": {\"type\": \"free-space\", \"alpha\": 3, \"p0\": 30},  # BS to RIS\n",
    "        \"risC\": {\"type\": \"free-space\", \"alpha\": 2.7, \"p0\": 30},  # RIS to center users\n",
    "        \"risE\": {\"type\": \"free-space\", \"alpha\": 2.3, \"p0\": 30},  # RIS to edge user\n",
    "        \"edge\": {\"type\": \"free-space\", \"alpha\": 3.5, \"p0\": 30},  # Edge users\n",
    "        \"inter\": {\"type\": \"free-space\", \"alpha\": 4, \"p0\": 30},  # Interference links\n",
    "    },\n",
    "}\n",
    "\n",
    "setting = {\n",
    "    \"ris32\": {\n",
    "        \"ris_enhanced\": True,  # RIS with 32 elements\n",
    "        \"ris_elements\": 32,\n",
    "        \"comp_enabled\": True,  # CoMP enabled\n",
    "    },\n",
    "    \"no_ris\": {\n",
    "        \"ris_enhanced\": False,  # No RIS\n",
    "        \"comp_enabled\": True,  # CoMP enabled\"\n",
    "    },\n",
    "    \"ris70\": {\n",
    "        \"ris_enhanced\": True,  # RIS with 70 elements\n",
    "        \"ris_elements\": 70,\n",
    "        \"comp_enabled\": True,  # CoMP enabled\n",
    "    },\n",
    "    \"no_ris_non_comp\": {\n",
    "        \"ris_enhanced\": False,  # No RIS\n",
    "        \"comp_enabled\": False,  # CoMP disabled\n",
    "    },\n",
    "}\n",
    "\n",
    "constants = {\n",
    "    \"BANDWIDTH\": 1e6,  # Bandwidth in Hz\n",
    "    \"TEMP\": 300,  # Temperature in Kelvin\n",
    "    \"FREQ\": 2.4e9,  # Frequency of carrier signal in Hz\n",
    "    \"SIGMA\": 6.32,  # Shadowing standard deviation in dB\n",
    "}"
   ]
  },
  {
   "cell_type": "code",
   "execution_count": 14,
   "metadata": {},
   "outputs": [],
   "source": [
    "all_results = []  # Store all results"
   ]
  },
  {
   "cell_type": "code",
   "execution_count": 16,
   "metadata": {},
   "outputs": [],
   "source": [
    "link_option = \"ris70\"  # Select the link option\n",
    "N = 10000  # Number of samples\n",
    "\n",
    "# Load the environment\n",
    "pathloss_cfg = environment[\"pathloss\"]\n",
    "fading_cfg = environment[\"fading\"]\n",
    "positions = environment[\"positions\"]\n",
    "\n",
    "# Additional parameters\n",
    "BANDWIDTH = constants[\"BANDWIDTH\"]  # Bandwidth in Hz\n",
    "TEMP = constants[\"TEMP\"]  # Temperature in Kelvin\n",
    "FREQ = constants[\"FREQ\"]  # Frequency of carrier signal in Hz\n",
    "SIGMA = constants[\"SIGMA\"]  # Shadowing standard deviation in dB\n",
    "\n",
    "Pt = np.linspace(-50, 30, 161)  # Transmit power in dBm\n",
    "Pt_lin = dbm2pow(Pt)  # Transmit power in linear scale\n",
    "N0 = prop.get_noise_power(BANDWIDTH, TEMP, 12)  # Noise power in dBm\n",
    "P_circuit = 10 ** (-3)  # Circuit power in watts\n",
    "\n",
    "params = setting[link_option]\n",
    "ris_enhanced = params[\"ris_enhanced\"]  # Whether to use RIS-enhanced transmission\n",
    "comp_enabled = params[\"comp_enabled\"]  # Whether to use computation offloading\n",
    "\n",
    "# Create the base stations\n",
    "BS1 = Transmitter(\"BS1\", positions[\"BS1\"], Pt_lin, {\"U1c\": 0.3, \"Uf\": 0.7})\n",
    "BS2 = Transmitter(\"BS2\", positions[\"BS2\"], Pt_lin, {\"U2c\": 0.3, \"Uf\": 0.7})\n",
    "\n",
    "# Create the users (identical)\n",
    "U1c = Receiver(\"U1c\", positions[\"U1c\"], sensitivity=-110)\n",
    "U2c = Receiver(\"U2c\", positions[\"U2c\"], sensitivity=-110)\n",
    "Uf = Receiver(\"Uf\", positions[\"Uf\"], sensitivity=-110)\n",
    "\n",
    "# Initialize the link collection (containing channel information)\n",
    "links = LinkCollection(N, FREQ)\n",
    "\n",
    "# Add the center links to the collection\n",
    "links.add_link(BS1, U1c, fading_cfg[\"rayleigh\"], pathloss_cfg[\"center\"], \"1,c\")\n",
    "links.add_link(BS2, U2c, fading_cfg[\"rayleigh\"], pathloss_cfg[\"center\"], \"2,c\")\n",
    "\n",
    "# Add the edge links to the collection\n",
    "links.add_link(BS1, Uf, fading_cfg[\"rayleigh\"], pathloss_cfg[\"edge\"], \"f\")\n",
    "links.add_link(BS2, Uf, fading_cfg[\"rayleigh\"], pathloss_cfg[\"edge\"], \"f\")\n",
    "\n",
    "# Add interference links to the collection\n",
    "links.add_link(BS1, U2c, fading_cfg[\"rayleigh\"], pathloss_cfg[\"inter\"], \"i,c\")\n",
    "links.add_link(BS2, U1c, fading_cfg[\"rayleigh\"], pathloss_cfg[\"inter\"], \"i,c\")"
   ]
  },
  {
   "cell_type": "code",
   "execution_count": 17,
   "metadata": {},
   "outputs": [],
   "source": [
    "K = params[\"ris_elements\"]  # Number of RIS elements\n",
    "\n",
    "# Create the STAR-RIS element\n",
    "RIS = STAR(\"RIS\", positions[\"RIS\"], elements=K)\n",
    "\n",
    "# Add the RIS links to the collection\n",
    "links.add_link(BS1, RIS, fading_cfg[\"ricianC\"], pathloss_cfg[\"ris\"], \"ris,b1\")\n",
    "links.add_link(BS2, RIS, fading_cfg[\"ricianC\"], pathloss_cfg[\"ris\"], \"ris,b2\")\n",
    "links.add_link(RIS, U1c, fading_cfg[\"ricianC\"], pathloss_cfg[\"risC\"], \"ris,b1\")\n",
    "links.add_link(RIS, U2c, fading_cfg[\"ricianC\"], pathloss_cfg[\"risC\"], \"ris,b2\")\n",
    "links.add_link(RIS, Uf, fading_cfg[\"ricianE\"], pathloss_cfg[\"risE\"], \"ris,f\")"
   ]
  },
  {
   "cell_type": "code",
   "execution_count": 21,
   "metadata": {},
   "outputs": [
    {
     "data": {
      "text/plain": [
       "2.6346249455791637e-05"
      ]
     },
     "execution_count": 21,
     "metadata": {},
     "output_type": "execute_result"
    }
   ],
   "source": [
    "np.mean(np.abs(links.get_link(BS1, Uf)))"
   ]
  },
  {
   "cell_type": "code",
   "execution_count": 22,
   "metadata": {},
   "outputs": [],
   "source": [
    "# Set the RIS phase shifts\n",
    "RIS.set_reflection_parameters(links, [BS1, BS2], [U1c, U2c])\n",
    "RIS.set_transmission_parameters(links, [BS1, BS2], Uf)\n",
    "\n",
    "# Merge the links\n",
    "RIS.merge_link(links, BS1, U1c)\n",
    "RIS.merge_link(links, BS2, U2c)\n",
    "RIS.merge_link(links, [BS1, BS2], Uf)"
   ]
  },
  {
   "cell_type": "code",
   "execution_count": 23,
   "metadata": {},
   "outputs": [
    {
     "data": {
      "text/plain": [
       "5.4069784312938794e-05"
      ]
     },
     "execution_count": 23,
     "metadata": {},
     "output_type": "execute_result"
    }
   ],
   "source": [
    "np.mean(np.abs(links.get_link(BS1, Uf)))"
   ]
  },
  {
   "cell_type": "code",
   "execution_count": 79,
   "metadata": {},
   "outputs": [
    {
     "name": "stdout",
     "output_type": "stream",
     "text": [
      "\u001b[36mDone!\u001b[0m\n"
     ]
    }
   ],
   "source": [
    "Pt_lin = dbm2pow(Pt)\n",
    "N0_lin = dbm2pow(N0)\n",
    "\n",
    "sum_rate = np.zeros((N, len(Pt)))\n",
    "\n",
    "# Compute the SNRs\n",
    "U1c.snr = BS1.get_allocation(U1c) * (\n",
    "    (Pt_lin * links.get_gain(BS1, U1c)) / (Pt_lin * links.get_gain(BS2, U1c) + N0_lin)\n",
    ")\n",
    "U1c.rate = np.log2(1 + U1c.snr)\n",
    "\n",
    "U2c.snr = BS2.get_allocation(U2c) * (\n",
    "    (Pt_lin * links.get_gain(BS2, U2c)) / (Pt_lin * links.get_gain(BS1, U2c) + N0_lin)\n",
    ")\n",
    "U2c.rate = np.log2(1 + U2c.snr)\n",
    "\n",
    "snr_BS1 = (Pt_lin * links.get_gain(BS1, Uf)) / (\n",
    "    N0_lin + Pt_lin * links.get_gain(BS2, Uf)\n",
    ")\n",
    "snr_BS2 = (Pt_lin * links.get_gain(BS2, Uf)) / (\n",
    "    N0_lin + Pt_lin * links.get_gain(BS1, Uf)\n",
    ")\n",
    "\n",
    "Uf.snr = (BS1.get_allocation(Uf) * snr_BS1 + BS2.get_allocation(Uf) * snr_BS2) / (\n",
    "    BS1.get_allocation(U1c) * snr_BS1 + BS2.get_allocation(U2c) * snr_BS2 + 1\n",
    ")\n",
    "Uf.rate = np.log2(1 + Uf.snr)\n",
    "\n",
    "sum_rate = np.mean(U1c.rate + U2c.rate + Uf.rate, axis=0)\n",
    "energy_efficiency = sum_rate / (Pt_lin * 2 + P_circuit)\n",
    "spectral_efficiency = sum_rate\n",
    "\n",
    "U1c.outage = np.mean(qfunc((pow2db(U1c.snr) - (-N0) - U1c.sensitivity) / SIGMA), axis=0)\n",
    "U2c.outage = np.mean(qfunc((pow2db(U2c.snr) - (-N0) - U2c.sensitivity) / SIGMA), axis=0)\n",
    "Uf.outage = np.mean(qfunc((pow2db(Uf.snr) - (-N0) - Uf.sensitivity) / SIGMA), axis=0)\n",
    "\n",
    "print(f\"{Fore.CYAN}Done!{Style.RESET_ALL}\")"
   ]
  },
  {
   "cell_type": "markdown",
   "metadata": {},
   "source": [
    "### Append Results"
   ]
  },
  {
   "cell_type": "code",
   "execution_count": 76,
   "metadata": {},
   "outputs": [],
   "source": [
    "all_results.append(\n",
    "    {\n",
    "        \"rates\": [\n",
    "            np.mean(U1c.rate, axis=0),\n",
    "            np.mean(U2c.rate, axis=0),\n",
    "            np.mean(Uf.rate, axis=0),\n",
    "        ],\n",
    "        \"sum_rate\": sum_rate,\n",
    "        \"outage\": [U1c.outage, U2c.outage, Uf.outage],\n",
    "        \"se\": spectral_efficiency,\n",
    "        \"ee\": energy_efficiency,\n",
    "    }\n",
    ")"
   ]
  },
  {
   "cell_type": "code",
   "execution_count": 78,
   "metadata": {},
   "outputs": [
    {
     "data": {
      "image/png": "[encoded data removed]",
      "text/plain": [
       "<Figure size 800x600 with 1 Axes>"
      ]
     },
     "metadata": {},
     "output_type": "display_data"
    }
   ],
   "source": [
    "plt.figure(figsize=(8, 6))\n",
    "plt.plot(Pt, all_results[0][\"rates\"][2])\n",
    "plt.plot(Pt, all_results[1][\"rates\"][2])\n",
    "plt.xlabel(\"Transmit power (dBm)\")\n",
    "plt.ylabel(\"Sum rate (bps/Hz)\")\n",
    "plt.show()"
   ]
  }
 ],
 "metadata": {
  "kernelspec": {
   "display_name": "simcomm",
   "language": "python",
   "name": "python3"
  },
  "language_info": {
   "codemirror_mode": {
    "name": "ipython",
    "version": 3
   },
   "file_extension": ".py",
   "mimetype": "text/x-python",
   "name": "python",
   "nbconvert_exporter": "python",
   "pygments_lexer": "ipython3",
   "version": "3.10.12"
  },
  "orig_nbformat": 4
 },
 "nbformat": 4,
 "nbformat_minor": 2
}
