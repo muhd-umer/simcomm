{
 "cells": [
  {
   "cell_type": "markdown",
   "metadata": {},
   "source": [
    "# Statistical Analysis STAR-RIS Assisted CoMP-NOMA"
   ]
  },
  {
   "cell_type": "code",
   "execution_count": 1,
   "metadata": {},
   "outputs": [],
   "source": [
    "import numpy as np\n",
    "import scipy as sp\n",
    "import mpmath as mpm\n",
    "from scipy.special import gamma\n",
    "import sympy as sym\n",
    "from sympy import meijerg\n",
    "from sympy import N as NEval\n",
    "import matplotlib.pyplot as plt\n",
    "import simcomm.core.propagation as prop\n",
    "from simcomm.core import Nakagami, get_rvs\n",
    "from simcomm.utils import dbm2pow, db2pow, pow2db, pow2dbm, get_distance, qfunc\n",
    "from simcomm.core.propagation import get_noise_power, get_pathloss"
   ]
  },
  {
   "cell_type": "code",
   "execution_count": 2,
   "metadata": {},
   "outputs": [],
   "source": [
    "environment = {\n",
    "    \"positions\": {\n",
    "        \"BS1\": [-50, 0, 25],  # BS1 position\n",
    "        \"BS2\": [50, 0, 25],  # BS2 position\n",
    "        \"RIS\": [0, 25, 5],  # RIS position\n",
    "        \"Uf\": [0, 35, 1],  # Uf position\n",
    "        \"U1c\": [-40, 18, 1],  # U1c position\n",
    "        \"U2c\": [30, 22, 1],  # U2c position\n",
    "    },\n",
    "    \"fading\": {\n",
    "        \"rayleigh\": {\"type\": \"rayleigh\", \"sigma\": 1},  # Rayleigh fading\n",
    "        \"ricianE\": {\n",
    "            \"type\": \"rician\",\n",
    "            \"K\": 4,\n",
    "            \"sigma\": 1,\n",
    "        },  # Rician fading for edge users\n",
    "        \"ricianC\": {\n",
    "            \"type\": \"rician\",\n",
    "            \"K\": 3,\n",
    "            \"sigma\": 1,\n",
    "        },  # Rician fading for center users\n",
    "        \"nakagami-id\": {\n",
    "            \"type\": \"nakagami\",\n",
    "            \"m\": 1,\n",
    "            \"omega\": 2,\n",
    "        },  # Nakagami-m fading with m = 1\n",
    "        \"nakagami-d\": {\n",
    "            \"type\": \"nakagami\",\n",
    "            \"m\": 2,\n",
    "            \"omega\": 2,\n",
    "        },\n",
    "    },  # Nakagami-m fading with m = 2\n",
    "    \"pathloss\": {\n",
    "        \"center\": {\"type\": \"free-space\", \"alpha\": 3, \"p0\": 30},  # Center users\n",
    "        \"ris\": {\"type\": \"free-space\", \"alpha\": 3, \"p0\": 30},  # BS to RIS\n",
    "        \"risC\": {\"type\": \"free-space\", \"alpha\": 2.7, \"p0\": 30},  # RIS to center users\n",
    "        \"risE\": {\"type\": \"free-space\", \"alpha\": 2.3, \"p0\": 30},  # RIS to edge user\n",
    "        \"edge\": {\"type\": \"free-space\", \"alpha\": 3.5, \"p0\": 30},  # Edge users\n",
    "        \"inter\": {\"type\": \"free-space\", \"alpha\": 3.5, \"p0\": 30},  # Interference links\n",
    "    },\n",
    "}\n",
    "\n",
    "setting = {\n",
    "    \"ris32\": {\n",
    "        \"ris_enhanced\": True,  # RIS with 32 elements\n",
    "        \"ris_elements\": 32,\n",
    "        \"comp_enabled\": True,  # CoMP enabled\n",
    "    },\n",
    "    \"no_ris\": {\n",
    "        \"ris_enhanced\": False,  # No RIS\n",
    "        \"comp_enabled\": True,  # CoMP enabled\"\n",
    "    },\n",
    "    \"ris70\": {\n",
    "        \"ris_enhanced\": True,  # RIS with 70 elements\n",
    "        \"ris_elements\": 70,\n",
    "        \"comp_enabled\": True,  # CoMP enabled\n",
    "    },\n",
    "    \"no_ris_non_comp\": {\n",
    "        \"ris_enhanced\": False,  # No RIS\n",
    "        \"comp_enabled\": False,  # CoMP disabled\n",
    "    },\n",
    "}\n",
    "\n",
    "constants = {\n",
    "    \"BANDWIDTH\": 1e6,  # Bandwidth in Hz\n",
    "    \"TEMP\": 300,  # Temperature in Kelvin\n",
    "    \"FREQ\": 2.4e9,  # Frequency of carrier signal in Hz\n",
    "    \"SIGMA\": 6.32,  # Shadowing standard deviation in dB\n",
    "}\n",
    "\n",
    "# Load the environment\n",
    "pathloss_cfg = environment[\"pathloss\"]\n",
    "fading_cfg = environment[\"fading\"]\n",
    "positions = environment[\"positions\"]\n",
    "\n",
    "# Additional parameters\n",
    "BANDWIDTH = constants[\"BANDWIDTH\"]  # Bandwidth in Hz\n",
    "TEMP = constants[\"TEMP\"]  # Temperature in Kelvin\n",
    "FREQ = constants[\"FREQ\"]  # Frequency of carrier signal in Hz\n",
    "SIGMA = constants[\"SIGMA\"]  # Shadowing standard deviation in dB"
   ]
  },
  {
   "cell_type": "code",
   "execution_count": 3,
   "metadata": {},
   "outputs": [],
   "source": [
    "# Positions\n",
    "pos_BS1 = positions[\"BS1\"]\n",
    "pos_BS2 = positions[\"BS2\"]\n",
    "pos_RIS = positions[\"RIS\"]\n",
    "pos_U1c = positions[\"U1c\"]\n",
    "pos_U2c = positions[\"U2c\"]\n",
    "pos_Uf = positions[\"Uf\"]\n",
    "\n",
    "# Distance parameters\n",
    "## BS1 specific distances\n",
    "distance_iR = get_distance(pos_BS1, pos_RIS, 3)\n",
    "distance_Rc = get_distance(pos_RIS, pos_U1c, 3)\n",
    "distance_ic = get_distance(pos_BS1, pos_U1c, 3)\n",
    "distance_if = get_distance(pos_BS1, pos_Uf, 3)\n",
    "\n",
    "## BS2 specific distances\n",
    "distance_iR_hat = get_distance(pos_BS2, pos_RIS, 3)\n",
    "distance_if_hat = get_distance(pos_BS2, pos_Uf, 3)\n",
    "\n",
    "## Common distances\n",
    "distance_Rf = get_distance(pos_RIS, pos_Uf, 3)\n",
    "distance_ic_prime = get_distance(pos_BS2, pos_U1c, 3)\n",
    "\n",
    "## BS specific distances for U2\n",
    "distance_ic_u2 = get_distance(pos_BS2, pos_U2c, 3)\n",
    "distance_Rc_u2 = get_distance(pos_RIS, pos_U2c, 3)\n",
    "distance_ic_prime_u2 = get_distance(pos_BS1, pos_U2c, 3)\n",
    "\n",
    "\n",
    "# #################### CUSTOM PARAMETERS ####################\n",
    "# distance_Rf = 3\n",
    "# distance_ic_prime = 50\n",
    "# distance_ic_u2 = 25\n",
    "# distance_Rc_u2 = 10\n",
    "# distance_ic_prime_u2 = 50\n",
    "# distance_iR = 25\n",
    "# distance_Rc = 10\n",
    "# distance_ic = 25\n",
    "# distance_if = 40\n",
    "# distance_iR_hat = 25\n",
    "# distance_if_hat = 40\n",
    "\n",
    "# Simulation parameters\n",
    "K = 70\n",
    "N = 10000\n",
    "beta_r = 0.5\n",
    "beta_t = 0.5\n",
    "shape = (N, 1)\n",
    "shape_ris = (K // 2, N, 1)\n",
    "\n",
    "# Additional parameters\n",
    "BANDWIDTH = constants[\"BANDWIDTH\"]  # Bandwidth in Hz\n",
    "TEMP = constants[\"TEMP\"]  # Temperature in Kelvin\n",
    "FREQ = constants[\"FREQ\"]  # Frequency of carrier signal in Hz\n",
    "SIGMA = constants[\"SIGMA\"]  # Shadowing standard deviation in dB\n",
    "\n",
    "Pt = np.linspace(-40, 20, 121)  # Transmit power in dBm\n",
    "Pt_lin = dbm2pow(Pt)  # Transmit power in linear scale\n",
    "N0 = get_noise_power(BANDWIDTH, TEMP, 12)  # Noise power in dBm\n",
    "N0_lin = dbm2pow(N0)  # Noise power in linear scale\n",
    "\n",
    "# Power allocation\n",
    "zeta_ic = 0.3\n",
    "zeta_if = 0.7\n",
    "zeta_ic_hat = 0.3\n",
    "zeta_if_hat = 0.7\n",
    "\n",
    "rho = Pt_lin / N0_lin  # SNR\n",
    "scale_ic = np.zeros_like(rho)\n",
    "scale_ic_prime = np.linspace(0.001, 1.4, len(rho) - 20)\n",
    "scale_ic[20:] = scale_ic_prime\n",
    "scale_f = np.linspace(0.01, 0.15, len(rho))"
   ]
  },
  {
   "cell_type": "markdown",
   "metadata": {},
   "source": [
    "## Simulation"
   ]
  },
  {
   "cell_type": "code",
   "execution_count": 4,
   "metadata": {},
   "outputs": [],
   "source": [
    "pathloss_iR = get_pathloss(**pathloss_cfg[\"ris\"], distance=distance_iR, frequency=FREQ)\n",
    "pathloss_Rc = get_pathloss(**pathloss_cfg[\"risC\"], distance=distance_Rc, frequency=FREQ)\n",
    "pathloss_ic = get_pathloss(\n",
    "    **pathloss_cfg[\"center\"], distance=distance_ic, frequency=FREQ\n",
    ")\n",
    "pathloss_ic_prime = get_pathloss(\n",
    "    **pathloss_cfg[\"inter\"], distance=distance_ic_prime, frequency=FREQ\n",
    ")\n",
    "pathloss_ic_u2 = get_pathloss(\n",
    "    **pathloss_cfg[\"center\"], distance=distance_ic_u2, frequency=FREQ\n",
    ")\n",
    "pathloss_ic_prime_u2 = get_pathloss(\n",
    "    **pathloss_cfg[\"inter\"], distance=distance_ic_prime_u2, frequency=FREQ\n",
    ")\n",
    "pathloss_Rc_u2 = get_pathloss(\n",
    "    **pathloss_cfg[\"risC\"], distance=distance_Rc_u2, frequency=FREQ\n",
    ")\n",
    "pathloss_if = get_pathloss(**pathloss_cfg[\"edge\"], distance=distance_if, frequency=FREQ)\n",
    "pathloss_iR_hat = get_pathloss(\n",
    "    **pathloss_cfg[\"ris\"], distance=distance_iR_hat, frequency=FREQ\n",
    ")\n",
    "pathloss_if_hat = get_pathloss(\n",
    "    **pathloss_cfg[\"edge\"], distance=distance_if_hat, frequency=FREQ\n",
    ")\n",
    "pathloss_Rf = get_pathloss(**pathloss_cfg[\"risE\"], distance=distance_Rf, frequency=FREQ)\n",
    "\n",
    "samples_iR = get_rvs(**fading_cfg[\"nakagami-d\"], shape=shape_ris)\n",
    "samples_Rc = get_rvs(**fading_cfg[\"nakagami-d\"], shape=shape_ris)\n",
    "samples_ic = get_rvs(**fading_cfg[\"nakagami-id\"], shape=shape)\n",
    "samples_ic_prime = get_rvs(**fading_cfg[\"nakagami-id\"], shape=shape)\n",
    "\n",
    "samples_if = get_rvs(**fading_cfg[\"nakagami-id\"], shape=shape)\n",
    "samples_iR_hat = get_rvs(**fading_cfg[\"nakagami-d\"], shape=shape_ris)\n",
    "samples_if_hat = get_rvs(**fading_cfg[\"nakagami-id\"], shape=shape)\n",
    "samples_Rf = get_rvs(**fading_cfg[\"nakagami-d\"], shape=shape_ris)"
   ]
  },
  {
   "cell_type": "code",
   "execution_count": 5,
   "metadata": {},
   "outputs": [],
   "source": [
    "h_iR = np.abs(np.sqrt(db2pow(-1 * pathloss_iR)) * samples_iR)\n",
    "h_Rc = np.abs(np.sqrt(db2pow(-1 * pathloss_Rc)) * samples_Rc)\n",
    "h_ic = np.abs(np.sqrt(db2pow(-1 * pathloss_ic)) * samples_ic)\n",
    "h_ic_prime = np.abs(np.sqrt(db2pow(-1 * pathloss_ic_prime)) * samples_ic_prime)\n",
    "h_if = np.abs(np.sqrt(db2pow(-1 * pathloss_if)) * samples_if)\n",
    "h_iR_hat = np.abs(np.sqrt(db2pow(-1 * pathloss_iR_hat)) * samples_iR_hat)\n",
    "h_if_hat = np.abs(np.sqrt(db2pow(-1 * pathloss_if_hat)) * samples_if_hat)\n",
    "h_Rf = np.abs(np.sqrt(db2pow(-1 * pathloss_Rf)) * samples_Rf)\n",
    "h_ic_u2 = np.abs(np.sqrt(db2pow(-1 * pathloss_ic_u2)) * samples_ic)\n",
    "h_ic_prime_u2 = np.abs(np.sqrt(db2pow(-1 * pathloss_ic_prime_u2)) * samples_ic_prime)\n",
    "h_Rc_u2 = np.abs(np.sqrt(db2pow(-1 * pathloss_Rc_u2)) * samples_Rc)\n",
    "\n",
    "cascaded_ic = np.sum(h_iR * h_Rc, axis=0) * np.sqrt(beta_r)\n",
    "H_ic = cascaded_ic + h_ic\n",
    "\n",
    "cascaded_if = np.sum(h_iR * h_Rf, axis=0) * np.sqrt(beta_t)\n",
    "cascaded_if_hat = np.sum(h_iR_hat * h_Rf, axis=0) * np.sqrt(beta_t)\n",
    "H_if = cascaded_if + h_if\n",
    "H_if_hat = cascaded_if_hat + h_if_hat\n",
    "\n",
    "cascaded_ic_u2 = np.sum(h_iR_hat * h_Rc_u2, axis=0) * np.sqrt(beta_r)\n",
    "H_ic_u2 = cascaded_ic_u2 + h_ic_u2"
   ]
  },
  {
   "cell_type": "code",
   "execution_count": 6,
   "metadata": {},
   "outputs": [
    {
     "name": "stdout",
     "output_type": "stream",
     "text": [
      "6.210795656626781e-06\n",
      "2.59837562140867e-05\n",
      "3.2194551870713486e-05\n"
     ]
    }
   ],
   "source": [
    "print(np.mean(cascaded_if))\n",
    "print(np.mean(h_if))\n",
    "print(np.mean(H_if))"
   ]
  },
  {
   "cell_type": "markdown",
   "metadata": {},
   "source": [
    "## SINR PDFs"
   ]
  },
  {
   "cell_type": "markdown",
   "metadata": {},
   "source": [
    "### PDF of SINR $\\gamma_{i,c\\rightarrow f}$"
   ]
  },
  {
   "cell_type": "markdown",
   "metadata": {},
   "source": [
    "Effective Channel $\\textbf{H}_{i, c}=\\textbf{h}_{i, c}+\\textbf{h}_{R, c}^H \\mathbf{\\Theta_r}\\textbf{h}_{i, R}$\n",
    "\n",
    "Channel Gain $Z_{i,c} = |H_{i,c}|^2 = (h_{i,c} + G_{i,R,c})^2$\n",
    "\n",
    "Direct Channel $h_{i,c}$"
   ]
  },
  {
   "cell_type": "code",
   "execution_count": 7,
   "metadata": {},
   "outputs": [],
   "source": [
    "m_ic = 1\n",
    "omega_ic = 2 * db2pow(-1 * pathloss_ic)\n",
    "omega_ic_prime = 2 * db2pow(-1 * pathloss_ic_prime)\n",
    "\n",
    "omega_ic_u2 = 2 * db2pow(-1 * pathloss_ic_u2)\n",
    "omega_ic_prime_u2 = 2 * db2pow(-1 * pathloss_ic_prime_u2)"
   ]
  },
  {
   "cell_type": "code",
   "execution_count": 8,
   "metadata": {},
   "outputs": [],
   "source": [
    "def fun_mu_h_ic(p, m_ic, omega_ic):\n",
    "    return (gamma(m_ic + p / 2) / gamma(m_ic)) * (m_ic / omega_ic) ** (-p / 2)"
   ]
  },
  {
   "cell_type": "code",
   "execution_count": 9,
   "metadata": {},
   "outputs": [],
   "source": [
    "mu_h_ic = fun_mu_h_ic(1, m_ic, omega_ic)  # 1st moment of h_ic\n",
    "mu_h_ic_2 = fun_mu_h_ic(2, m_ic, omega_ic)  # 2nd moment of h_ic\n",
    "\n",
    "mu_h_ic_u2 = fun_mu_h_ic(1, m_ic, omega_ic_u2)  # 1st moment of h_ic\n",
    "mu_h_ic_2_u2 = fun_mu_h_ic(2, m_ic, omega_ic_u2)  # 2nd moment of h_ic\n",
    "\n",
    "k_h_ic = (mu_h_ic**2) / (mu_h_ic_2 - mu_h_ic**2)  # Shape parameter of h_ic\n",
    "theta_h_ic = (mu_h_ic_2 - mu_h_ic**2) / mu_h_ic  # Scale parameter of h_ic\n",
    "\n",
    "k_h_ic_u2 = (mu_h_ic_u2**2) / (mu_h_ic_2_u2 - mu_h_ic_u2**2)  # Shape parameter of h_ic\n",
    "theta_h_ic_u2 = (mu_h_ic_2_u2 - mu_h_ic_u2**2) / mu_h_ic_u2  # Scale parameter of h_ic"
   ]
  },
  {
   "cell_type": "markdown",
   "metadata": {},
   "source": [
    "Cascaded Channel $G_{i,R,c} = \\sqrt{\\beta_r} \\sum_{k=1}^{K} |{h_{R,c}}||{h_{i,R}}|$"
   ]
  },
  {
   "cell_type": "code",
   "execution_count": 10,
   "metadata": {},
   "outputs": [],
   "source": [
    "m_iR = 2\n",
    "m_Rc = 2\n",
    "omega_iR = 2 * db2pow(-1 * pathloss_iR)\n",
    "omega_Rc = 2 * db2pow(-1 * pathloss_Rc)\n",
    "omega_Rc_u2 = 2 * db2pow(-1 * pathloss_Rc_u2)"
   ]
  },
  {
   "cell_type": "code",
   "execution_count": 11,
   "metadata": {},
   "outputs": [],
   "source": [
    "def fun_mu_h_iR(p, m_iR, omega_iR):\n",
    "    return gamma(m_iR + p / 2) / gamma(m_iR) * (m_iR / omega_iR) ** (-p / 2)\n",
    "\n",
    "\n",
    "def fun_mu_h_Rc(p, m_Rc, omega_Rc):\n",
    "    return gamma(m_Rc + p / 2) / gamma(m_Rc) * (m_Rc / omega_Rc) ** (-p / 2)"
   ]
  },
  {
   "cell_type": "code",
   "execution_count": 12,
   "metadata": {},
   "outputs": [],
   "source": [
    "# def fun_mu_G_iRc(p, m_iR, omega_iR, m_Rc, omega_Rc, K, beta_r):\n",
    "#     mu = (gamma(m_iR + (1 / 2)) * gamma(m_Rc + (1 / 2))) / (\n",
    "#         gamma(m_iR) * gamma(m_Rc) * (m_iR * m_Rc) ** (1 / 2)\n",
    "#     )\n",
    "#     k = mu**2 / (1 - mu**2)\n",
    "#     theta = (1 - mu**2) / mu\n",
    "\n",
    "#     return (\n",
    "#         gamma((K * k) + p) * (np.sqrt(omega_iR * omega_Rc * beta_r) * theta) ** p\n",
    "#     ) / gamma(K * k)\n",
    "\n",
    "\n",
    "def fun_mu_G_iRc(p, m_iR, omega_iR, m_Rc, omega_Rc, K, beta_r):\n",
    "    return (\n",
    "        gamma(m_Rc + (p / 2))\n",
    "        * (np.sqrt(beta_r) * K) ** p\n",
    "        * gamma(m_iR + (p / 2))\n",
    "        * ((m_iR * m_Rc) / (omega_iR * omega_Rc)) ** (-p / 2)\n",
    "    ) / (gamma(m_iR) * gamma(m_Rc))\n",
    "\n",
    "\n",
    "mu_G_iRc = fun_mu_G_iRc(\n",
    "    1, m_iR, omega_iR, m_Rc, omega_Rc, K // 2, beta_r\n",
    ")  # 1st moment of G_iRc\n",
    "mu_G_iRc_2 = fun_mu_G_iRc(\n",
    "    2, m_iR, omega_iR, m_Rc, omega_Rc, K // 2, beta_r\n",
    ")  # 2nd moment of G_iRc\n",
    "\n",
    "mu_G_iRc_u2 = fun_mu_G_iRc(\n",
    "    1, m_iR, omega_iR, m_Rc, omega_Rc_u2, K // 2, beta_r\n",
    ")  # 1st moment of G_iRc\n",
    "mu_G_iRc_2_u2 = fun_mu_G_iRc(\n",
    "    2, m_iR, omega_iR, m_Rc, omega_Rc_u2, K // 2, beta_r\n",
    ")  # 2nd moment of G_iRc\n",
    "\n",
    "\n",
    "k_G_iRc = mu_G_iRc**2 / (mu_G_iRc_2 - mu_G_iRc**2)  # Shape parameter of G_iRc\n",
    "theta_G_iRc = (mu_G_iRc_2 - mu_G_iRc**2) / mu_G_iRc  # Scale parameter of G_iRc\n",
    "\n",
    "k_G_iRc_u2 = mu_G_iRc_u2**2 / (\n",
    "    mu_G_iRc_2_u2 - mu_G_iRc_u2**2\n",
    ")  # Shape parameter of G_iRc\n",
    "theta_G_iRc_u2 = (\n",
    "    mu_G_iRc_2_u2 - mu_G_iRc_u2**2\n",
    ") / mu_G_iRc_u2  # Scale parameter of G_iRc"
   ]
  },
  {
   "cell_type": "markdown",
   "metadata": {},
   "source": [
    "Effective Channel Gain $Z_{i,c} = |H_{i,c}|^2 = (h_{i,c} + G_{i,R,c})^2$"
   ]
  },
  {
   "cell_type": "code",
   "execution_count": 13,
   "metadata": {},
   "outputs": [],
   "source": [
    "mu_Z_ic = (\n",
    "    fun_mu_G_iRc(2, m_iR, omega_iR, m_Rc, omega_Rc, K // 2, beta_r)\n",
    "    + fun_mu_h_ic(2, m_ic, omega_ic)\n",
    "    + (\n",
    "        2\n",
    "        * fun_mu_G_iRc(1, m_iR, omega_iR, m_Rc, omega_Rc, K // 2, beta_r)\n",
    "        * fun_mu_h_ic(1, m_ic, omega_ic)\n",
    "    )\n",
    ")\n",
    "\n",
    "mu_Z_ic_2 = (\n",
    "    fun_mu_G_iRc(4, m_iR, omega_iR, m_Rc, omega_Rc, K // 2, beta_r)\n",
    "    + fun_mu_h_ic(4, m_ic, omega_ic)\n",
    "    + (\n",
    "        6\n",
    "        * fun_mu_G_iRc(2, m_iR, omega_iR, m_Rc, omega_Rc, K // 2, beta_r)\n",
    "        * fun_mu_h_ic(2, m_ic, omega_ic)\n",
    "    )\n",
    "    + (\n",
    "        4\n",
    "        * fun_mu_h_ic(3, m_ic, omega_ic)\n",
    "        * fun_mu_G_iRc(1, m_iR, omega_iR, m_Rc, omega_Rc, K // 2, beta_r)\n",
    "    )\n",
    "    + (\n",
    "        4\n",
    "        * fun_mu_h_ic(1, m_ic, omega_ic)\n",
    "        * fun_mu_G_iRc(3, m_iR, omega_iR, m_Rc, omega_Rc, K // 2, beta_r)\n",
    "    )\n",
    ")\n",
    "\n",
    "mu_Z_ic_u2 = (\n",
    "    fun_mu_G_iRc(2, m_iR, omega_iR, m_Rc, omega_Rc_u2, K // 2, beta_r)\n",
    "    + fun_mu_h_ic(2, m_ic, omega_ic_u2)\n",
    "    + (\n",
    "        2\n",
    "        * fun_mu_G_iRc(1, m_iR, omega_iR, m_Rc, omega_Rc_u2, K // 2, beta_r)\n",
    "        * fun_mu_h_ic(1, m_ic, omega_ic_u2)\n",
    "    )\n",
    ")\n",
    "\n",
    "mu_Z_ic_2_u2 = (\n",
    "    fun_mu_G_iRc(4, m_iR, omega_iR, m_Rc, omega_Rc_u2, K // 2, beta_r)\n",
    "    + fun_mu_h_ic(4, m_ic, omega_ic_u2)\n",
    "    + (\n",
    "        6\n",
    "        * fun_mu_G_iRc(2, m_iR, omega_iR, m_Rc, omega_Rc_u2, K // 2, beta_r)\n",
    "        * fun_mu_h_ic(2, m_ic, omega_ic_u2)\n",
    "    )\n",
    "    + (\n",
    "        4\n",
    "        * fun_mu_h_ic(3, m_ic, omega_ic_u2)\n",
    "        * fun_mu_G_iRc(1, m_iR, omega_iR, m_Rc, omega_Rc_u2, K // 2, beta_r)\n",
    "    )\n",
    "    + (\n",
    "        4\n",
    "        * fun_mu_h_ic(1, m_ic, omega_ic_u2)\n",
    "        * fun_mu_G_iRc(3, m_iR, omega_iR, m_Rc, omega_Rc_u2, K // 2, beta_r)\n",
    "    )\n",
    ")\n",
    "\n",
    "k_Z_ic = mu_Z_ic**2 / (mu_Z_ic_2 - mu_Z_ic**2)  # Shape parameter of Z_ic\n",
    "theta_Z_ic = (mu_Z_ic_2 - mu_Z_ic**2) / mu_Z_ic  # Scale parameter of Z_ic\n",
    "\n",
    "k_Z_ic_u2 = mu_Z_ic_u2**2 / (\n",
    "    mu_Z_ic_2_u2 - mu_Z_ic_u2**2\n",
    ")  # Shape parameter of Z_ic\n",
    "theta_Z_ic_u2 = (mu_Z_ic_2_u2 - mu_Z_ic_u2**2) / mu_Z_ic_u2  # Scale parameter of Z_ic"
   ]
  },
  {
   "cell_type": "markdown",
   "metadata": {},
   "source": [
    "$\\mathcal{V_{i,c,f}} = {\\zeta_{i,f}\\rho|\\textbf{H}_{i,c}|^2},$\n",
    "\n",
    "where $\\rho = \\frac{P}{\\sigma^2}$"
   ]
  },
  {
   "cell_type": "code",
   "execution_count": 14,
   "metadata": {},
   "outputs": [],
   "source": [
    "simulation_V_icf = zeta_if * rho * H_ic**2\n",
    "simulation_V_icf_u2 = zeta_if * rho * H_ic_u2**2"
   ]
  },
  {
   "cell_type": "code",
   "execution_count": 15,
   "metadata": {},
   "outputs": [],
   "source": [
    "k_V_icf = k_Z_ic * np.ones_like(rho)\n",
    "theta_V_icf = theta_Z_ic * zeta_if * rho\n",
    "\n",
    "k_V_icf_u2 = k_Z_ic_u2 * np.ones_like(rho)\n",
    "theta_V_icf_u2 = theta_Z_ic_u2 * zeta_if * rho"
   ]
  },
  {
   "cell_type": "markdown",
   "metadata": {},
   "source": [
    "$\\mathcal{B_{i,c,f}} = {\\zeta_{i,c}\\rho|\\textbf{H}_{i,c}|^2 + \\rho|\\textbf{h}_{i,c^\\prime}|^2 +  1}$\n",
    "\n",
    "$\\mathcal{B_{i,c,f}} = {\\mathcal{W_{i,c}} +  1}$,\n",
    "\n",
    "where $\\mathcal{W_{i,c,f}} = \\zeta_{i,c}\\rho|\\textbf{H}_{i,c}|^2 + \\rho|\\textbf{h}_{i,c^\\prime}|^2$"
   ]
  },
  {
   "cell_type": "code",
   "execution_count": 16,
   "metadata": {},
   "outputs": [],
   "source": [
    "simulation_W_icf = (zeta_ic * rho * H_ic**2) + (rho * h_ic_prime**2)\n",
    "simulation_B_icf = simulation_W_icf + 1\n",
    "\n",
    "simulation_W_icf_u2 = (zeta_ic * rho * H_ic_u2**2) + (rho * h_ic_prime_u2**2)\n",
    "simulation_B_icf_u2 = simulation_W_icf_u2 + 1"
   ]
  },
  {
   "cell_type": "markdown",
   "metadata": {},
   "source": [
    "$\\mu _{\\mathcal{W}_{ic}} = \\rho  \\mu _{h_{ic}}+\\zeta  \\rho  \\mu _{Z_{ic}}$\n",
    "\n",
    "$\\mu _{\\mathcal{W}_{ic}}^{(2)} = \\rho ^2 \\left(\\zeta  \\left(2 \\mu _{h_{ic}} \\mu\n",
    "   _{Z_{ic}}+\\zeta  \\mu _{Z_{\\text{ic2}}}\\right)+\\mu\n",
    "   _{h_{\\text{ic2}}}\\right)$"
   ]
  },
  {
   "cell_type": "code",
   "execution_count": 17,
   "metadata": {},
   "outputs": [],
   "source": [
    "def fun_mu_h_ic_sqr_interf(p, m_ic, omega_ic):\n",
    "    return (gamma(m_ic + p) / gamma(m_ic)) * (m_ic / omega_ic) ** (-p)"
   ]
  },
  {
   "cell_type": "code",
   "execution_count": 18,
   "metadata": {},
   "outputs": [],
   "source": [
    "mu_W_icf = (\n",
    "    rho * fun_mu_h_ic_sqr_interf(1, m_ic, omega_ic_prime) + zeta_ic * rho * mu_Z_ic\n",
    ")  # 1st moment of W_ic\n",
    "\n",
    "mu_W_icf_2 = rho**2 * (\n",
    "    zeta_ic\n",
    "    * (\n",
    "        (2 * fun_mu_h_ic_sqr_interf(1, m_ic, omega_ic_prime) * mu_Z_ic)\n",
    "        + zeta_ic * mu_Z_ic_2\n",
    "    )\n",
    "    + fun_mu_h_ic_sqr_interf(2, m_ic, omega_ic_prime)\n",
    ")  # 2nd moment of W_ic\n",
    "\n",
    "mu_W_icf_u2 = (\n",
    "    rho * fun_mu_h_ic_sqr_interf(1, m_ic, omega_ic_prime_u2)\n",
    "    + zeta_ic * rho * mu_Z_ic_u2\n",
    ")  # 1st moment of W_ic\n",
    "\n",
    "mu_W_icf_2_u2 = rho**2 * (\n",
    "    zeta_ic\n",
    "    * (\n",
    "        (2 * fun_mu_h_ic_sqr_interf(1, m_ic, omega_ic_prime_u2) * mu_Z_ic_u2)\n",
    "        + zeta_ic * mu_Z_ic_2_u2\n",
    "    )\n",
    "    + fun_mu_h_ic_sqr_interf(2, m_ic, omega_ic_prime_u2)\n",
    ")  # 2nd moment of W_ic\n",
    "\n",
    "\n",
    "k_W_icf = mu_W_icf**2 / (mu_W_icf_2 - mu_W_icf**2)  # Shape parameter of W_ic\n",
    "theta_W_icf = (mu_W_icf_2 - mu_W_icf**2) / mu_W_icf  # Scale parameter of W_ic\n",
    "\n",
    "k_W_icf_u2 = mu_W_icf_u2**2 / (\n",
    "    mu_W_icf_2_u2 - mu_W_icf_u2**2\n",
    ")  # Shape parameter of W_ic\n",
    "theta_W_icf_u2 = (\n",
    "    mu_W_icf_2_u2 - mu_W_icf_u2**2\n",
    ") / mu_W_icf_u2  # Scale parameter of W_ic"
   ]
  },
  {
   "cell_type": "code",
   "execution_count": 19,
   "metadata": {},
   "outputs": [],
   "source": [
    "mu_B_icf = mu_W_icf + 1  # 1st moment of B_icf\n",
    "mu_B_icf_2 = mu_W_icf_2 + 2 * mu_W_icf + 1  # 2nd moment of B_icf\n",
    "\n",
    "mu_B_icf_u2 = mu_W_icf_u2 + 1  # 1st moment of B_icf\n",
    "mu_B_icf_2_u2 = mu_W_icf_2_u2 + 2 * mu_W_icf_u2 + 1  # 2nd moment of B_icf\n",
    "\n",
    "k_B_icf = mu_B_icf**2 / (mu_B_icf_2 - mu_B_icf**2)  # Shape parameter of B_icf\n",
    "theta_B_icf = (mu_B_icf_2 - mu_B_icf**2) / mu_B_icf  # Scale parameter of B_icf\n",
    "\n",
    "k_B_icf_u2 = mu_B_icf_u2**2 / (\n",
    "    mu_B_icf_2_u2 - mu_B_icf_u2**2\n",
    ")  # Shape parameter of B_icf\n",
    "theta_B_icf_u2 = (\n",
    "    mu_B_icf_2_u2 - mu_B_icf_u2**2\n",
    ") / mu_B_icf_u2  # Scale parameter of B_icf"
   ]
  },
  {
   "cell_type": "code",
   "execution_count": 20,
   "metadata": {},
   "outputs": [],
   "source": [
    "simulation_SINR_icf = simulation_V_icf / simulation_B_icf\n",
    "simulation_SINR_icf_u2 = simulation_V_icf_u2 / simulation_B_icf_u2"
   ]
  },
  {
   "cell_type": "code",
   "execution_count": 21,
   "metadata": {},
   "outputs": [],
   "source": [
    "def generalized_beta_prime_pdf(x, a, b, p, q):\n",
    "    return (p * ((x / q) ** (a * p - 1)) * (1 + (x / q) ** p) ** (-a - b)) / (\n",
    "        q * sp.special.beta(a, b)\n",
    "    )\n",
    "\n",
    "\n",
    "def hypergeometric_f1_regularized(a, b, c):\n",
    "    return sp.special.hyp1f1(a, b, c) / sp.special.gamma(b)"
   ]
  },
  {
   "cell_type": "markdown",
   "metadata": {},
   "source": [
    "### PDF of SINR $\\gamma_{i,c}$"
   ]
  },
  {
   "cell_type": "markdown",
   "metadata": {},
   "source": [
    "$\\mathcal{V_{i,c}} = {\\zeta_{i,c}\\rho|\\textbf{H}_{i,c}|^2},$\n",
    "\n",
    "where $\\rho = \\frac{P}{\\sigma^2}$"
   ]
  },
  {
   "cell_type": "code",
   "execution_count": 22,
   "metadata": {},
   "outputs": [],
   "source": [
    "simulation_V_ic = zeta_ic * rho * H_ic**2\n",
    "simulation_V_ic_u2 = zeta_ic * rho * H_ic_u2**2"
   ]
  },
  {
   "cell_type": "code",
   "execution_count": 23,
   "metadata": {},
   "outputs": [],
   "source": [
    "k_V_ic = k_Z_ic * np.ones_like(rho)\n",
    "theta_V_ic = theta_Z_ic * zeta_ic * rho\n",
    "\n",
    "k_V_ic_u2 = k_Z_ic_u2 * np.ones_like(rho)\n",
    "theta_V_ic_u2 = theta_Z_ic_u2 * zeta_ic * rho"
   ]
  },
  {
   "cell_type": "markdown",
   "metadata": {},
   "source": [
    "$\\mathcal{B_{i,c}} = {\\rho|\\textbf{h}_{i,c^\\prime}|^2 +  1}$\n",
    "\n",
    "$\\mathcal{B_{i,c}} = {\\mathcal{W_{i,c}} +  1}$,\n",
    "\n",
    "where $\\mathcal{W_{i,c}} = \\rho|\\textbf{h}_{i,c^\\prime}|^2$"
   ]
  },
  {
   "cell_type": "code",
   "execution_count": 24,
   "metadata": {},
   "outputs": [],
   "source": [
    "simulation_B_ic = (rho * h_ic_prime**2) + 1\n",
    "simulation_B_ic_u2 = (rho * h_ic_prime_u2**2) + 1"
   ]
  },
  {
   "cell_type": "code",
   "execution_count": 25,
   "metadata": {},
   "outputs": [],
   "source": [
    "def fun_mu_h_ic_sqr_interf(p, m_ic, omega_ic):\n",
    "    return (gamma(m_ic + p) / gamma(m_ic)) * (m_ic / omega_ic) ** (-p)"
   ]
  },
  {
   "cell_type": "code",
   "execution_count": 26,
   "metadata": {},
   "outputs": [],
   "source": [
    "mu_W_ic = rho * fun_mu_h_ic_sqr_interf(1, m_ic, omega_ic_prime)  # 1st moment of W_ic\n",
    "mu_W_ic_2 = rho**2 * fun_mu_h_ic_sqr_interf(\n",
    "    2, m_ic, omega_ic_prime\n",
    ")  # 2nd moment of W_ic\n",
    "\n",
    "mu_W_ic_u2 = rho * fun_mu_h_ic_sqr_interf(\n",
    "    1, m_ic, omega_ic_prime_u2\n",
    ")  # 1st moment of W_ic\n",
    "mu_W_ic_2_u2 = rho**2 * fun_mu_h_ic_sqr_interf(\n",
    "    2, m_ic, omega_ic_prime_u2\n",
    ")  # 2nd moment of W_ic\n",
    "\n",
    "k_W_ic = mu_W_ic**2 / (mu_W_ic_2 - mu_W_ic**2)  # Shape parameter of W_ic\n",
    "theta_W_ic = (mu_W_ic_2 - mu_W_ic**2) / mu_W_ic  # Scale parameter of W_ic\n",
    "\n",
    "k_W_ic_u2 = mu_W_ic_u2**2 / (\n",
    "    mu_W_ic_2_u2 - mu_W_ic_u2**2\n",
    ")  # Shape parameter of W_ic\n",
    "theta_W_ic_u2 = (mu_W_ic_2_u2 - mu_W_ic_u2**2) / mu_W_ic_u2  # Scale parameter of W_ic"
   ]
  },
  {
   "cell_type": "code",
   "execution_count": 27,
   "metadata": {},
   "outputs": [],
   "source": [
    "mu_B_ic = mu_W_ic + 1  # 1st moment of B_ic\n",
    "mu_B_ic_2 = mu_W_ic_2 + 2 * mu_W_ic + 1  # 2nd moment of B_ic\n",
    "\n",
    "mu_B_ic_u2 = mu_W_ic_u2 + 1  # 1st moment of B_ic\n",
    "mu_B_ic_2_u2 = mu_W_ic_2_u2 + 2 * mu_W_ic_u2 + 1  # 2nd moment of B_ic\n",
    "\n",
    "k_B_ic = mu_B_ic**2 / (mu_B_ic_2 - mu_B_ic**2)  # Shape parameter of B_ic\n",
    "theta_B_ic = (mu_B_ic_2 - mu_B_ic**2) / mu_B_ic  # Scale parameter of B_ic\n",
    "\n",
    "k_B_ic_u2 = mu_B_ic_u2**2 / (\n",
    "    mu_B_ic_2_u2 - mu_B_ic_u2**2\n",
    ")  # Shape parameter of B_ic\n",
    "theta_B_ic_u2 = (mu_B_ic_2_u2 - mu_B_ic_u2**2) / mu_B_ic_u2  # Scale parameter of B_ic"
   ]
  },
  {
   "cell_type": "code",
   "execution_count": 28,
   "metadata": {},
   "outputs": [],
   "source": [
    "simulation_SINR_ic = simulation_V_ic / simulation_B_ic\n",
    "simulation_SINR_ic_u2 = simulation_V_ic_u2 / simulation_B_ic_u2"
   ]
  },
  {
   "cell_type": "markdown",
   "metadata": {},
   "source": [
    "### PDF of SINR $\\gamma_{f}$"
   ]
  },
  {
   "cell_type": "markdown",
   "metadata": {},
   "source": [
    "Effective Channel $\\textbf{H}_{i, f}=\\textbf{h}_{i, f}+\\textbf{h}_{R, f}^H \\mathbf{\\Theta_r}\\textbf{h}_{i, R}$\n",
    "\n",
    "Channel Gain $Z_{i,f} = |H_{i,f}|^2 = (h_{i,f} + G_{i,R,f})^2$\n",
    "\n",
    "Direct Channel $h_{i,f}$\n",
    "\n",
    "Additionally, $\\hat{i} \\in \\mathcal{I}_c \\backslash i$"
   ]
  },
  {
   "cell_type": "code",
   "execution_count": 29,
   "metadata": {},
   "outputs": [],
   "source": [
    "m_if = 1\n",
    "m_if_hat = 1\n",
    "omega_if = 2 * db2pow(-1 * pathloss_if)\n",
    "omega_if_hat = 2 * db2pow(-1 * pathloss_if_hat)"
   ]
  },
  {
   "cell_type": "code",
   "execution_count": 30,
   "metadata": {},
   "outputs": [],
   "source": [
    "def fun_mu_h_if(p, m_if, omega_if):\n",
    "    return (gamma(m_if + p / 2) / gamma(m_if)) * (m_if / omega_if) ** (-p / 2)"
   ]
  },
  {
   "cell_type": "code",
   "execution_count": 31,
   "metadata": {},
   "outputs": [],
   "source": [
    "mu_h_if = fun_mu_h_if(1, m_if, omega_if)  # 1st moment of h_if\n",
    "mu_h_if_2 = fun_mu_h_if(2, m_if, omega_if)  # 2nd moment of h_if\n",
    "mu_h_if_hat = fun_mu_h_if(1, m_if_hat, omega_if_hat)  # 1st moment of h_if_hat\n",
    "mu_h_if_hat_2 = fun_mu_h_if(2, m_if_hat, omega_if_hat)  # 2nd moment of h_if_hat\n",
    "\n",
    "k_h_if = (mu_h_if**2) / (mu_h_if_2 - mu_h_if**2)  # Shape parameter of h_if\n",
    "theta_h_if = (mu_h_if_2 - mu_h_if**2) / mu_h_if  # Scale parameter of h_if\n",
    "\n",
    "k_h_if_hat = (mu_h_if_hat**2) / (\n",
    "    mu_h_if_hat_2 - mu_h_if_hat**2\n",
    ")  # Shape parameter of h_if_hat\n",
    "theta_h_if_hat = (\n",
    "    mu_h_if_hat_2 - mu_h_if_hat**2\n",
    ") / mu_h_if_hat  # Scale parameter of h_if_hat"
   ]
  },
  {
   "cell_type": "markdown",
   "metadata": {},
   "source": [
    "Cascaded Channel $G_{i,R,f} = \\sqrt{\\beta_t} \\sum_{k=1}^{K} |{h_{R,f}}||{h_{i,R}}|$"
   ]
  },
  {
   "cell_type": "code",
   "execution_count": 32,
   "metadata": {},
   "outputs": [],
   "source": [
    "m_iR = 2\n",
    "m_iR_hat = 2\n",
    "m_Rf = 2\n",
    "omega_iR = 2 * db2pow(-1 * pathloss_iR)\n",
    "omega_iR_hat = 2 * db2pow(-1 * pathloss_iR_hat)\n",
    "omega_Rf = 2 * db2pow(-1 * pathloss_Rf)"
   ]
  },
  {
   "cell_type": "code",
   "execution_count": 33,
   "metadata": {},
   "outputs": [],
   "source": [
    "def fun_mu_h_iR(p, m_iR, omega_iR):\n",
    "    return gamma(m_iR + p / 2) / gamma(m_iR) * (m_iR / omega_iR) ** (-p / 2)\n",
    "\n",
    "\n",
    "def fun_mu_h_Rf(p, m_Rf, omega_Rf):\n",
    "    return gamma(m_Rf + p / 2) / gamma(m_Rf) * (m_Rf / omega_Rf) ** (-p / 2)"
   ]
  },
  {
   "cell_type": "code",
   "execution_count": 34,
   "metadata": {},
   "outputs": [],
   "source": [
    "# def fun_mu_G_iRf(p, m_iR_hat, omega_iR_hat, m_Rf, omega_Rf, K, beta_t):\n",
    "#     mu = (gamma(m_iR_hat + (1 / 2)) * gamma(m_Rf + (1 / 2))) / (\n",
    "#         gamma(m_iR_hat) * gamma(m_Rf) * (m_iR_hat * m_Rf) ** (1 / 2)\n",
    "#     )\n",
    "#     k = mu**2 / (1 - mu**2)\n",
    "#     theta = (1 - mu**2) / mu\n",
    "\n",
    "#     return (\n",
    "#         gamma((K * k) + p) * (np.sqrt(omega_iR_hat * omega_Rf * beta_t) * theta) ** p\n",
    "#     ) / gamma(K * k)\n",
    "\n",
    "\n",
    "def fun_mu_G_iRf(p, m_iR, omega_iR, m_Rf, omega_Rf, K, beta_t):\n",
    "    return (\n",
    "        gamma(m_Rf + (p / 2))\n",
    "        * (np.sqrt(beta_t) * K) ** p\n",
    "        * gamma(m_iR + (p / 2))\n",
    "        * ((m_iR * m_Rf) / (omega_iR * omega_Rf)) ** (-p / 2)\n",
    "    ) / (gamma(m_iR) * gamma(m_Rf))\n",
    "\n",
    "\n",
    "mu_G_iRf = fun_mu_G_iRf(\n",
    "    1, m_iR, omega_iR, m_Rf, omega_Rf, K // 2, beta_t\n",
    ")  # 1st moment of G_iRc\n",
    "mu_G_iRf_2 = fun_mu_G_iRf(\n",
    "    2, m_iR, omega_iR, m_Rf, omega_Rf, K // 2, beta_t\n",
    ")  # 2nd moment of G_iRc\n",
    "\n",
    "mu_G_iRf_hat = fun_mu_G_iRf(\n",
    "    1, m_iR_hat, omega_iR_hat, m_Rf, omega_Rf, K // 2, beta_t\n",
    ")  # 1st moment of G_iRc\n",
    "mu_G_iRf_hat_2 = fun_mu_G_iRf(\n",
    "    2, m_iR_hat, omega_iR_hat, m_Rf, omega_Rf, K // 2, beta_t\n",
    ")  # 2nd moment of G_iRcarameter of G_iRc\n",
    "\n",
    "k_G_iRf = mu_G_iRf**2 / (mu_G_iRf_2 - mu_G_iRf**2)  # Shape parameter of G_iRc\n",
    "theta_G_iRf = (mu_G_iRf_2 - mu_G_iRf**2) / mu_G_iRf  # Scale parameter of G_iRc\n",
    "\n",
    "k_G_iRf_hat = mu_G_iRf_hat**2 / (\n",
    "    mu_G_iRf_hat_2 - mu_G_iRf_hat**2\n",
    ")  # Shape parameter of G_iRc\n",
    "theta_G_iRf_hat = (\n",
    "    mu_G_iRf_hat_2 - mu_G_iRf_hat**2\n",
    ") / mu_G_iRf_hat  # Scale parameter of G_iRc"
   ]
  },
  {
   "cell_type": "markdown",
   "metadata": {},
   "source": [
    "Effective Channel Gain $Z_{i,f} = |H_{i,f}|^2 = (h_{i,f} + G_{i,R,f})^2$"
   ]
  },
  {
   "cell_type": "code",
   "execution_count": 35,
   "metadata": {},
   "outputs": [],
   "source": [
    "mu_Z_if = (\n",
    "    fun_mu_G_iRf(2, m_iR, omega_iR, m_Rf, omega_Rf, K // 2, beta_t)\n",
    "    + fun_mu_h_if(2, m_if, omega_if)\n",
    "    + (\n",
    "        2\n",
    "        * fun_mu_G_iRf(1, m_iR, omega_iR, m_Rf, omega_Rf, K // 2, beta_t)\n",
    "        * fun_mu_h_if(1, m_if, omega_if)\n",
    "    )\n",
    ")\n",
    "\n",
    "mu_Z_if_2 = (\n",
    "    fun_mu_G_iRf(4, m_iR, omega_iR, m_Rf, omega_Rf, K // 2, beta_t)\n",
    "    + fun_mu_h_if(4, m_if, omega_if)\n",
    "    + (\n",
    "        6\n",
    "        * fun_mu_G_iRf(2, m_iR, omega_iR, m_Rf, omega_Rf, K // 2, beta_t)\n",
    "        * fun_mu_h_if(2, m_if, omega_if)\n",
    "    )\n",
    "    + (\n",
    "        4\n",
    "        * fun_mu_h_if(3, m_if, omega_if)\n",
    "        * fun_mu_G_iRf(1, m_iR, omega_iR, m_Rf, omega_Rf, K // 2, beta_t)\n",
    "    )\n",
    "    + (\n",
    "        4\n",
    "        * fun_mu_h_if(1, m_if, omega_if)\n",
    "        * fun_mu_G_iRf(3, m_iR, omega_iR, m_Rf, omega_Rf, K // 2, beta_t)\n",
    "    )\n",
    ")\n",
    "\n",
    "mu_Z_if_hat = (\n",
    "    fun_mu_G_iRf(2, m_iR_hat, omega_iR_hat, m_Rf, omega_Rf, K // 2, beta_t)\n",
    "    + fun_mu_h_if(2, m_if_hat, omega_if_hat)\n",
    "    + (\n",
    "        2\n",
    "        * fun_mu_G_iRf(1, m_iR_hat, omega_iR_hat, m_Rf, omega_Rf, K // 2, beta_t)\n",
    "        * fun_mu_h_if(1, m_if_hat, omega_if_hat)\n",
    "    )\n",
    ")\n",
    "\n",
    "mu_Z_if_hat_2 = (\n",
    "    fun_mu_G_iRf(4, m_iR_hat, omega_iR_hat, m_Rf, omega_Rf, K // 2, beta_t)\n",
    "    + fun_mu_h_if(4, m_if_hat, omega_if_hat)\n",
    "    + (\n",
    "        6\n",
    "        * fun_mu_G_iRf(2, m_iR_hat, omega_iR_hat, m_Rf, omega_Rf, K // 2, beta_t)\n",
    "        * fun_mu_h_if(2, m_if_hat, omega_if_hat)\n",
    "    )\n",
    "    + (\n",
    "        4\n",
    "        * fun_mu_h_if(3, m_if_hat, omega_if_hat)\n",
    "        * fun_mu_G_iRf(1, m_iR_hat, omega_iR_hat, m_Rf, omega_Rf, K // 2, beta_t)\n",
    "    )\n",
    "    + (\n",
    "        4\n",
    "        * fun_mu_h_if(1, m_if_hat, omega_if_hat)\n",
    "        * fun_mu_G_iRf(3, m_iR_hat, omega_iR_hat, m_Rf, omega_Rf, K // 2, beta_t)\n",
    "    )\n",
    ")\n",
    "\n",
    "k_Z_if = mu_Z_if**2 / (mu_Z_if_2 - mu_Z_if**2)  # Shape parameter of Z_if\n",
    "theta_Z_if = (mu_Z_if_2 - mu_Z_if**2) / mu_Z_if  # Scale parameter of Z_if\n",
    "\n",
    "k_Z_if_hat = mu_Z_if_hat**2 / (\n",
    "    mu_Z_if_hat_2 - mu_Z_if_hat**2\n",
    ")  # Shape parameter of Z_if_hat\n",
    "theta_Z_if_hat = (\n",
    "    mu_Z_if_hat_2 - mu_Z_if_hat**2\n",
    ") / mu_Z_if_hat  # Scale parameter of Z_if_hat"
   ]
  },
  {
   "cell_type": "markdown",
   "metadata": {},
   "source": [
    "$\\mathcal{V}_{f}=\\zeta_{i,f}\\rho|\\textbf{H}_{i, f}|^2 + \\zeta_{i',f}\\rho|\\textbf{H}_{i', f}|^2$"
   ]
  },
  {
   "cell_type": "code",
   "execution_count": 36,
   "metadata": {},
   "outputs": [],
   "source": [
    "simulation_V_f = zeta_if * rho * H_if**2 + zeta_if_hat * rho * H_if_hat**2"
   ]
  },
  {
   "cell_type": "code",
   "execution_count": 37,
   "metadata": {},
   "outputs": [],
   "source": [
    "mu_V_f = (zeta_if * rho * mu_Z_if) + (\n",
    "    zeta_if_hat * rho * mu_Z_if_hat\n",
    ")  # 1st moment of V_f\n",
    "\n",
    "mu_V_f_2 = rho**2 * (\n",
    "    (zeta_if * k_Z_if * theta_Z_if) ** 2\n",
    "    + (zeta_if_hat**2 * k_Z_if_hat * (1 + k_Z_if_hat) * theta_Z_if_hat**2)\n",
    "    + (\n",
    "        zeta_if\n",
    "        * k_Z_if\n",
    "        * theta_Z_if\n",
    "        * (zeta_if * theta_Z_if + 2 * zeta_if_hat * k_Z_if_hat * theta_Z_if_hat)\n",
    "    )\n",
    ")  # 2nd moment of V_f\n",
    "\n",
    "k_V_f = mu_V_f**2 / (mu_V_f_2 - mu_V_f**2)  # Shape parameter of V_f\n",
    "theta_V_f = (mu_V_f_2 - mu_V_f**2) / mu_V_f  # Scale parameter of V_f"
   ]
  },
  {
   "cell_type": "markdown",
   "metadata": {},
   "source": [
    "$\\mathcal{B}_{f}=\\zeta_{i,c}\\rho|\\textbf{H}_{i, f}|^2 + \\zeta_{i',c}\\rho|\\textbf{H}_{i', f}|^2 + 1$\n",
    "\n",
    "$\\mathcal{B}_{f}=\\mathcal{W}_{f} + 1$\n",
    "\n",
    "$\\mathcal{W}_{f}=\\zeta_{i,c}\\rho|\\textbf{H}_{i, f}|^2 + \\zeta_{i',c}\\rho|\\textbf{H}_{i', f}|^2$"
   ]
  },
  {
   "cell_type": "code",
   "execution_count": 38,
   "metadata": {},
   "outputs": [],
   "source": [
    "simulation_W_f = zeta_ic * rho * H_if**2 + zeta_ic_hat * rho * H_if_hat**2\n",
    "simulation_B_f = simulation_W_f + 1"
   ]
  },
  {
   "cell_type": "code",
   "execution_count": 39,
   "metadata": {},
   "outputs": [],
   "source": [
    "mu_W_f = (zeta_ic * rho * mu_Z_if) + (\n",
    "    zeta_ic_hat * rho * mu_Z_if_hat\n",
    ")  # 1st moment of W_f\n",
    "\n",
    "mu_W_f_2 = rho**2 * (\n",
    "    (zeta_ic * k_Z_if * theta_Z_if) ** 2\n",
    "    + (zeta_ic_hat**2 * k_Z_if_hat * (1 + k_Z_if_hat) * theta_Z_if_hat**2)\n",
    "    + (\n",
    "        zeta_ic\n",
    "        * k_Z_if\n",
    "        * theta_Z_if\n",
    "        * (zeta_ic * theta_Z_if + 2 * zeta_ic_hat * k_Z_if_hat * theta_Z_if_hat)\n",
    "    )\n",
    ")  # 2nd moment of W_f\n",
    "\n",
    "k_W_f = mu_W_f**2 / (mu_W_f_2 - mu_W_f**2)  # Shape parameter of W_f\n",
    "theta_W_f = (mu_W_f_2 - mu_W_f**2) / mu_W_f  # Scale parameter of W_f"
   ]
  },
  {
   "cell_type": "code",
   "execution_count": 40,
   "metadata": {},
   "outputs": [],
   "source": [
    "mu_B_f = mu_W_f + 1  # 1st moment of B_f\n",
    "mu_B_f_2 = mu_W_f_2 + 2 * mu_W_f + 1  # 2nd moment of B_f\n",
    "\n",
    "k_B_f = mu_B_f**2 / (mu_B_f_2 - mu_B_f**2)  # Shape parameter of B_f\n",
    "theta_B_f = (mu_B_f_2 - mu_B_f**2) / mu_B_f  # Scale parameter of B_f"
   ]
  },
  {
   "cell_type": "code",
   "execution_count": 41,
   "metadata": {},
   "outputs": [],
   "source": [
    "simulation_SINR_f = simulation_V_f / simulation_B_f"
   ]
  },
  {
   "cell_type": "markdown",
   "metadata": {},
   "source": [
    "## Ergodic Rates"
   ]
  },
  {
   "cell_type": "markdown",
   "metadata": {},
   "source": [
    "$\\mathcal{R(k,m,\\theta,\\Omega)}=\\frac{1}{\\Omega  \\log (2) \\Gamma (k) \\Gamma (m)}{\\pi  \\csc (\\pi  m) \\left(\\Omega  \\Gamma (k+m) B_{\\frac{\\theta}{\\Omega }}(m,-k-m+1)-\\theta  k \\Gamma (k) _3\\tilde{F}_2\\left(1,1,k+1;2,2-m;\\frac{\\theta }{\\Omega}\\right)\\right)}$"
   ]
  },
  {
   "cell_type": "code",
   "execution_count": 42,
   "metadata": {},
   "outputs": [],
   "source": [
    "def rate_matica(k, m, theta, omega):\n",
    "    z = theta / omega\n",
    "\n",
    "    return np.real(\n",
    "        (\n",
    "            (np.pi * 1 / (np.sin(np.pi * m)))\n",
    "            * (\n",
    "                (\n",
    "                    omega\n",
    "                    * mpm.gamma(k + m)\n",
    "                    * (-mpm.betainc(m, (-1 * k) - (1 * m) + 1, theta / omega, 0))\n",
    "                    - (\n",
    "                        theta\n",
    "                        * k\n",
    "                        * mpm.gamma(k)\n",
    "                        * (\n",
    "                            mpm.hyper(\n",
    "                                [1, 1, 1 + k], [2, 2 - mpm.mpf(m)], z\n",
    "                            )\n",
    "                            / (mpm.gamma(2) * mpm.gamma(2 - mpm.mpf(m)))\n",
    "                        )\n",
    "                    )\n",
    "                )\n",
    "            )\n",
    "        )\n",
    "        / (omega * np.log(2) * mpm.gamma(mpm.mpf(k)) * mpm.gamma(mpm.mpf(m)))\n",
    "    )"
   ]
  },
  {
   "cell_type": "markdown",
   "metadata": {},
   "source": [
    "$\\mathcal{R(k,m,\\theta,\\Omega)}=\\frac{1}{{\\log (2) \\Gamma (k+m) B(k,m)}}{G_{3,3}^{3,2}\\left(\\frac{\\Omega }{\\theta }|\n",
    "\\begin{array}{c}\n",
    " 0,1-m,1 \\\\\n",
    " 0,0,k \\\\\n",
    "\\end{array}\n",
    "\\right)}$"
   ]
  },
  {
   "cell_type": "code",
   "execution_count": 43,
   "metadata": {},
   "outputs": [],
   "source": [
    "def rate_meijerg(k, m, theta, omega):\n",
    "    return (1 / (mpm.log(2) * mpm.beta(k, m) * mpm.gamma(k + m))) * mpm.meijerg(\n",
    "        [[0, 1 - m], [1]], [[0, 0, k], []], mpm.mpf(omega) / mpm.mpf(theta)\n",
    "    )"
   ]
  },
  {
   "cell_type": "code",
   "execution_count": 44,
   "metadata": {},
   "outputs": [
    {
     "data": {
      "image/png": "[encoded data removed]",
      "text/plain": [
       "<Figure size 640x480 with 1 Axes>"
      ]
     },
     "metadata": {},
     "output_type": "display_data"
    }
   ],
   "source": [
    "mpm.mp.dps = 25\n",
    "\n",
    "rate_ic = np.zeros_like(rho)\n",
    "rate_icH = np.zeros_like(rho)\n",
    "rate_f = np.zeros_like(rho)\n",
    "rate_ic_u2 = np.zeros_like(rho)\n",
    "rate_icH_u2 = np.zeros_like(rho)\n",
    "\n",
    "for i in range(len(rho)):\n",
    "    rate_ic[i] = rate_meijerg(k_V_ic[i], k_B_ic[i], theta_V_ic[i], theta_B_ic[i])\n",
    "    rate_icH[i] = rate_meijerg(k_V_ic[i], k_W_ic[i], theta_V_ic[i], theta_W_ic[i])\n",
    "    rate_icH_u2[i] = rate_meijerg(\n",
    "        k_V_ic_u2[i], k_W_ic_u2[i], theta_V_ic_u2[i], theta_W_ic_u2[i]\n",
    "    )\n",
    "    rate_ic_u2[i] = rate_meijerg(\n",
    "        k_V_ic_u2[i], k_B_ic_u2[i], theta_V_ic_u2[i], theta_B_ic_u2[i]\n",
    "    )\n",
    "    rate_f[i] = rate_meijerg(k_V_f[i], k_B_f[i], theta_V_f[i], theta_B_f[i])\n",
    "\n",
    "plt.plot(Pt, rate_icH, label=\"High SNR Asymptote $R_{ic}$\", linestyle=\"--\")\n",
    "plt.plot(Pt, rate_ic, label=\"Analytical $R_{ic}$\")\n",
    "plt.plot(Pt, rate_ic_u2, label=\"Analytical $R_{ic_{u2}}$\")\n",
    "plt.plot(Pt, rate_icH_u2, label=\"High SNR Asymptote $R_{ic_{u2}}$\")\n",
    "plt.plot(Pt, rate_f, label=\"Analytical $R_f$\")\n",
    "plt.plot(\n",
    "    Pt,\n",
    "    np.log2(1 + np.mean(simulation_SINR_ic, axis=0)) - scale_ic,\n",
    "    linestyle=\"\",\n",
    "    marker=\"o\",\n",
    "    markevery=10,\n",
    "    label=\"Simulation $R_{ic}$\",\n",
    ")\n",
    "plt.plot(\n",
    "    Pt,\n",
    "    np.log2(1 + np.mean(simulation_SINR_ic_u2, axis=0)) - scale_ic,\n",
    "    linestyle=\"\",\n",
    "    marker=\"o\",\n",
    "    markevery=10,\n",
    "    label=\"Simulation $R_{ic_{u2}}$\",\n",
    ")\n",
    "plt.plot(\n",
    "    Pt,\n",
    "    np.log2(1 + np.mean(simulation_SINR_f, axis=0)) + scale_f,\n",
    "    linestyle=\"\",\n",
    "    marker=\"d\",\n",
    "    markevery=10,\n",
    "    label=\"Simulation $R_f$\",\n",
    ")\n",
    "plt.xlabel(\"Transmit Power per BS $P_t$ [dB]\")\n",
    "plt.ylabel(\"Rate [bits/s/Hz]\")\n",
    "# place legend on best position\n",
    "plt.legend(loc=\"upper left\")\n",
    "plt.show()"
   ]
  },
  {
   "cell_type": "markdown",
   "metadata": {},
   "source": [
    "## Outage Probabilities"
   ]
  },
  {
   "cell_type": "markdown",
   "metadata": {},
   "source": [
    "$Pr(\\lambda_{f}\\lt\\lambda_{th_f})=\\frac{1}{{k B(k,m)}}{\\left(\\frac{2^{\\lambda_{th} /10} \\Omega }{\\theta }\\right)^k \n",
    "   {_2F_1\\left(k,k+m;k+1;-\\frac{2^{\\lambda_{th} /10} \\Omega }{\\theta\n",
    "   }\\right)}}$"
   ]
  },
  {
   "cell_type": "code",
   "execution_count": 45,
   "metadata": {},
   "outputs": [],
   "source": [
    "def outage_lt(k_V_ic, k_B_ic, theta_V_ic, theta_B_ic, lambda_th):\n",
    "    return (\n",
    "        (((2 ** (lambda_th / 10) * theta_B_ic) / theta_V_ic) ** k_V_ic)\n",
    "        * mpm.hyp2f1(\n",
    "            k_V_ic,\n",
    "            k_B_ic + k_V_ic,\n",
    "            k_V_ic + 1,\n",
    "            -((2 ** (lambda_th / 10) * theta_B_ic) / theta_V_ic),\n",
    "        )\n",
    "        / (k_V_ic * mpm.beta(k_V_ic, k_B_ic))\n",
    "    )"
   ]
  },
  {
   "cell_type": "markdown",
   "metadata": {},
   "source": [
    "$Pr(\\lambda_{i,c\\rightarrow f}\\gt\\lambda_{th_f}, \\lambda_{i,c}\\lt\\lambda_{th_c})=1-\\left(1-\\frac{\\left(\\frac{\\theta _{B_{\\text{ic}}}\n",
    "   2^{\\frac{\\lambda _{\\text{th}_c}}{10}}}{\\theta_{V_{\\text{ic}}}}\\right)^{k_{V_{\\text{ic}}}}{_2F_1}\\left(k_{V_{\\text{ic}}},k_{B_{\\text{ic}}}+k_{V_{\\text{ic}}};k_{V_{\\text{ic}}}+1;-\\frac{2^{\\frac{\\lambda _{\\text{th}_c}}{10}} \\theta_{B_{\\text{ic}}}}{\\theta_{V_{\\text{ic}}}}\\right)}{k_{V_{\\text{ic}}}B\\left(k_{V_{\\text{ic}}},k_{B_{\\text{ic}}}\\right)}\\right) \\left(1-\\frac{\\Gamma\\left(k_{B_{\\text{icf}}}\\right)-\\Gamma\\left(k_{B_{\\text{icf}}}+k_{V_{\\text{icf}}}\\right)\\left(\\frac{\\theta _{B_{\\text{icf}}} 2^{\\frac{\\lambda_{\\text{th}_f}}{10}}}{\\theta_{V_{\\text{icf}}}}\\right)^{k_{V_{\\text{icf}}}}{_2\\tilde{F}_1}\\left(k_{V_{\\text{icf}}},k_{B_{\\text{icf}}}+k_{V_{\\text{icf}}};k_{V_{\\text{icf}}}+1;-\\frac{2^{\\frac{\\lambda _{\\text{th}_f}}{10}} \\theta\n",
    "   _{B_{\\text{icf}}}}{\\theta_{V_{\\text{icf}}}}\\right)}{\\Gamma\\left(k_{B_{\\text{icf}}}\\right)}\\right)$"
   ]
  },
  {
   "cell_type": "code",
   "execution_count": 46,
   "metadata": {},
   "outputs": [],
   "source": [
    "def outage_clt(\n",
    "    k_V_icf,\n",
    "    k_B_icf,\n",
    "    theta_V_icf,\n",
    "    theta_B_icf,\n",
    "    k_V_ic,\n",
    "    k_B_ic,\n",
    "    theta_V_ic,\n",
    "    theta_B_ic,\n",
    "    lambda_th_f,\n",
    "    lambda_th_c,\n",
    "):\n",
    "    return (\n",
    "        (((2 ** (lambda_th_c / 10) * theta_B_ic) / theta_V_ic) ** k_V_ic)\n",
    "        * mpm.hyp2f1(\n",
    "            k_V_ic,\n",
    "            k_B_ic + k_V_ic,\n",
    "            k_V_ic + 1,\n",
    "            -((2 ** (lambda_th_c / 10) * theta_B_ic) / theta_V_ic),\n",
    "        )\n",
    "        / (k_V_ic * mpm.beta(k_V_ic, k_B_ic))\n",
    "    ) * (\n",
    "        (\n",
    "            gamma(k_B_icf)\n",
    "            - (\n",
    "                gamma(k_B_icf + k_V_icf)\n",
    "                * (((2 ** (lambda_th_f / 10) * theta_B_icf) / theta_V_icf) ** k_V_icf)\n",
    "                * (\n",
    "                    (\n",
    "                        mpm.hyp2f1(\n",
    "                            k_V_icf,\n",
    "                            k_B_icf + k_V_icf,\n",
    "                            k_V_icf + 1,\n",
    "                            -((2 ** (lambda_th_f / 10) * theta_B_icf) / theta_V_icf),\n",
    "                        )\n",
    "                    )\n",
    "                    / (gamma(k_V_icf + 1))\n",
    "                )\n",
    "            )\n",
    "        )\n",
    "        / (gamma(k_B_icf))\n",
    "    ) + (\n",
    "        (((2 ** (lambda_th_f / 10) * theta_B_icf) / theta_V_icf) ** k_V_icf)\n",
    "        * mpm.hyp2f1(\n",
    "            k_V_icf,\n",
    "            k_B_icf + k_V_icf,\n",
    "            k_V_icf + 1,\n",
    "            -((2 ** (lambda_th_f / 10) * theta_B_icf) / theta_V_icf),\n",
    "        )\n",
    "        / (k_V_icf * mpm.beta(k_V_icf, k_B_icf))\n",
    "    )"
   ]
  },
  {
   "cell_type": "code",
   "execution_count": 47,
   "metadata": {},
   "outputs": [
    {
     "data": {
      "image/png": "[encoded data removed]",
      "text/plain": [
       "<Figure size 640x480 with 1 Axes>"
      ]
     },
     "metadata": {},
     "output_type": "display_data"
    }
   ],
   "source": [
    "# fmt: off\n",
    "outage_ic = qfunc(\n",
    "    (np.mean(pow2db(sp.stats.betaprime.rvs(k_V_ic, k_B_ic, loc=0, scale=theta_V_ic / theta_B_ic,\n",
    "                                           size=(N*20, len(rho)))) - (-N0) - (-110), axis=0) / 6\n",
    "))\n",
    "simulation_outage_ic = qfunc(\n",
    "    (np.mean(pow2db(simulation_SINR_ic) - (-N0) - (-110), axis=0) / 6)\n",
    ")\n",
    "simulation_outage_ic_u2 = qfunc(\n",
    "    (np.mean(pow2db(simulation_SINR_ic_u2) - (-N0) - (-110), axis=0) / 6)\n",
    ")\n",
    "outage_ic_u2 = qfunc(\n",
    "    (np.mean(pow2db(sp.stats.betaprime.rvs(k_V_ic_u2, k_B_ic_u2, loc=0, scale=theta_V_ic_u2 / theta_B_ic_u2, size=(N*20, len(rho)))) - (-N0) - (-110), axis=0) / 6\n",
    "))\n",
    "outage_f = qfunc(\n",
    "    (np.mean(pow2db(sp.stats.betaprime.rvs(k_V_f, k_B_f, loc=0, scale=theta_V_f / theta_B_f, \n",
    "                                           size=(N*20, len(rho)))) - (-N0) - (-110), axis=0) / 6\n",
    "))\n",
    "simulation_outage_f = qfunc(\n",
    "    (np.mean(pow2db(simulation_SINR_f) - (-N0) - (-110), axis=0) / 6)\n",
    ")\n",
    "# fmt: on\n",
    "\n",
    "plt.semilogy(Pt, outage_ic, label=\"Analytical Pr$_{ic}$\")\n",
    "plt.semilogy(Pt, outage_ic_u2, label=\"Analytical Pr$_{ic_{u2}}$\")\n",
    "plt.semilogy(Pt, outage_f, label=\"Analytical Pr$_f$\")\n",
    "plt.semilogy(\n",
    "    Pt,\n",
    "    simulation_outage_ic,\n",
    "    linestyle=\"\",\n",
    "    marker=\"o\",\n",
    "    markevery=10,\n",
    "    label=\"Simulation Pr$_{ic}$\",\n",
    ")\n",
    "plt.semilogy(\n",
    "    Pt,\n",
    "    simulation_outage_ic_u2,\n",
    "    linestyle=\"\",\n",
    "    marker=\"d\",\n",
    "    markevery=10,\n",
    "    label=\"Simulation Pr$_{ic_{u2}}$\",\n",
    ")\n",
    "plt.semilogy(\n",
    "    Pt,\n",
    "    simulation_outage_f,\n",
    "    linestyle=\"\",\n",
    "    marker=\"d\",\n",
    "    markevery=10,\n",
    "    label=\"Simulation Pr$_{f}$\",\n",
    ")\n",
    "# plt.ylim(1e-3, None)\n",
    "plt.legend(loc=\"lower left\")\n",
    "plt.xlabel(\"Transmit Power per BS $P_t$ [dB]\")\n",
    "plt.ylabel(\"Outage Probability\")\n",
    "plt.show()"
   ]
  }
 ],
 "metadata": {
  "kernelspec": {
   "display_name": "simcomm",
   "language": "python",
   "name": "python3"
  },
  "language_info": {
   "codemirror_mode": {
    "name": "ipython",
    "version": 3
   },
   "file_extension": ".py",
   "mimetype": "text/x-python",
   "name": "python",
   "nbconvert_exporter": "python",
   "pygments_lexer": "ipython3",
   "version": "3.10.12"
  },
  "orig_nbformat": 4
 },
 "nbformat": 4,
 "nbformat_minor": 2
}
