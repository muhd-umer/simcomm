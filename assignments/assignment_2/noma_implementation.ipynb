{
 "cells": [
  {
   "attachments": {},
   "cell_type": "markdown",
   "metadata": {},
   "source": [
    "### Necessary Imports"
   ]
  },
  {
   "cell_type": "code",
   "execution_count": null,
   "metadata": {},
   "outputs": [],
   "source": [
    "import numpy as np\n",
    "import matplotlib.pyplot as plt\n"
   ]
  },
  {
   "attachments": {},
   "cell_type": "markdown",
   "metadata": {},
   "source": [
    "### Defining Parameters"
   ]
  },
  {
   "cell_type": "code",
   "execution_count": null,
   "metadata": {},
   "outputs": [],
   "source": [
    "# NOMA parameters\n",
    "P = 1\n",
    "G1 = 10\n",
    "G2 = 10\n",
    "count = 1\n",
    "R1_values = []\n",
    "R2_values = []"
   ]
  },
  {
   "attachments": {},
   "cell_type": "markdown",
   "metadata": {},
   "source": [
    "### Plotting Noma Graph"
   ]
  },
  {
   "cell_type": "code",
   "execution_count": null,
   "metadata": {},
   "outputs": [],
   "source": [
    "\n",
    "for alpha in np.arange(0, 1, 0.01):  # power splitting factor\n",
    "    P1 = P * alpha\n",
    "    P2 = P - P1\n",
    "    R1 = np.log2(1 + P1 * G1)\n",
    "    R2 = np.log2(1 + P2 * G2 / (P1 * G2 + 1))\n",
    "    R1_values.append(R1)\n",
    "    R2_values.append(R2)\n",
    "    count += 1\n",
    "\n",
    "plt.plot(R1_values, R2_values, 'r', label='NOMA')  # Add label for legend\n",
    "\n",
    "count = 1\n",
    "R1_values = []\n",
    "R2_values = []\n",
    "\n",
    "\n",
    "\n",
    "\n",
    "\n",
    "\n",
    "\n"
   ]
  },
  {
   "attachments": {},
   "cell_type": "markdown",
   "metadata": {},
   "source": [
    "### Plotting OFDMA Graph"
   ]
  },
  {
   "cell_type": "code",
   "execution_count": null,
   "metadata": {},
   "outputs": [],
   "source": [
    "for alpha in np.arange(0, 1, 0.01):  # bandwidth splitting factor\n",
    "    P1 = P / 2\n",
    "    P2 = P / 2\n",
    "    R1 = alpha * np.log2(1 + P1 * G1 / alpha)\n",
    "    R2 = (1 - alpha) * np.log2(1 + P2 * G2 / (1 - alpha))\n",
    "    R1_values.append(R1)\n",
    "    R2_values.append(R2)\n",
    "    count += 1\n",
    "\n",
    "plt.plot(R1_values, R2_values, 'k', label='OFDMA')  # Add label for legend\n",
    "\n",
    "plt.xlabel('Rate of user 1 (bps/Hz)')\n",
    "plt.ylabel('Rate of user 2 (bps/Hz)')\n",
    "plt.grid(True)  # Use True to enable grid\n",
    "plt.legend()  # Show legend\n",
    "\n",
    "plt.show()\n"
   ]
  },
  {
   "attachments": {},
   "cell_type": "markdown",
   "metadata": {},
   "source": [
    "### Spectral Efficiency Plots"
   ]
  },
  {
   "cell_type": "code",
   "execution_count": null,
   "metadata": {},
   "outputs": [],
   "source": [
    "\n",
    "B = 5e6  # bandwidth Hz\n",
    "N0 = 1e-21  # -150 dBw/Hz\n",
    "N = N0 * B  # dBW\n",
    "G1 = 1e-12  # -120 dB\n",
    "G2 = 1e-14  # -140 dB\n",
    "Pcircuit = 100  # watts\n",
    "\n",
    "# NOMA\n",
    "count = 1\n",
    "SE = []\n",
    "EE = []\n",
    "for p in range(1, 101):  # W\n",
    "    P1 = p * 0.1  # allocate less power to UE1\n",
    "    P2 = p - P1\n",
    "    R1 = B * np.log2(1 + P1 * G1 / N)\n",
    "    R2 = B * np.log2(1 + P2 * G2 / (P1 * G2 + N))\n",
    "    R = R1 + R2\n",
    "    SE.append(R / B)  # bit/sec/Hz\n",
    "    EE.append(R / (Pcircuit + p))  # b/joule\n",
    "    count += 1\n",
    "\n",
    "plt.plot(SE, EE, 'k')\n",
    "plt.xlabel('SE (bit/sec/Hz)')\n",
    "plt.ylabel('EE (bit/joule)')\n",
    "plt.grid(True)\n",
    "\n",
    "# OFDMA\n",
    "count = 1\n",
    "SE_line = []\n",
    "EE_line = []\n",
    "for p in range(1, 101):  # watts\n",
    "    P1 = p / 2\n",
    "    P2 = p / 2\n",
    "    R1 = (B / 2) * np.log2(1 + P1 * G1 / (N0 * B / 2))\n",
    "    R2 = (B / 2) * np.log2(1 + P2 * G2 / (N0 * B / 2))\n",
    "    R = R1 + R2\n",
    "    SE_line.append(R / B)  # bit/sec/Hz\n",
    "    EE_line.append(R / (Pcircuit + p))  # bit/joule\n",
    "    count += 1\n",
    "\n",
    "plt.plot(SE_line, EE_line, 'g-')\n",
    "plt.xlabel('SE (bit/sec/Hz)')\n",
    "plt.ylabel('EE (bit/joule)')\n",
    "plt.grid(True)\n",
    "plt.legend([\"NOMA\", \"OFDMA\"])\n",
    "plt.show()\n",
    "\n"
   ]
  },
  {
   "attachments": {},
   "cell_type": "markdown",
   "metadata": {},
   "source": [
    "### For More Number of Users"
   ]
  },
  {
   "cell_type": "code",
   "execution_count": null,
   "metadata": {},
   "outputs": [],
   "source": [
    "import numpy as np\n",
    "import matplotlib.pyplot as plt\n",
    "\n",
    "# NOMA parameters\n",
    "P = 1\n",
    "G1 = 10\n",
    "G2 = 10\n",
    "G3 = 10\n",
    "G4 = 10\n",
    "\n",
    "# Initialize lists to store rate values\n",
    "R1_values = []\n",
    "R2_values = []\n",
    "R3_values = []\n",
    "R4_values = []\n",
    "\n",
    "# Plotting NOMA graph\n",
    "for alpha in np.arange(0, 1, 0.01):  # power splitting factor\n",
    "    P1 = P * alpha\n",
    "    P2 = P - P1\n",
    "    P3 = P1 * alpha\n",
    "    P4 = P2 - P3\n",
    "    R1 = np.log2(1 + P1 * G1)\n",
    "    R2 = np.log2(1 + P2 * G2 / (P1 * G2 + 1))\n",
    "    R3 = np.log2(1 + P3 * G3 / (P1 * G3 + 1))\n",
    "    R4 = np.log2(1 + P4 * G4 / (P1 * G4 + 1))\n",
    "    R1_values.append(R1)\n",
    "    R2_values.append(R2)\n",
    "    R3_values.append(R3)\n",
    "    R4_values.append(R4)\n",
    "\n",
    "plt.plot(R1_values, R2_values, 'r', label='NOMA User 2')\n",
    "plt.plot(R1_values, R3_values, 'g', label='NOMA User 3')\n",
    "plt.plot(R1_values, R4_values, 'b', label='NOMA User 4')\n",
    "\n",
    "# Reset the lists for OFDMA\n",
    "R1_values = []\n",
    "R2_values = []\n",
    "R3_values = []\n",
    "R4_values = []\n",
    "\n",
    "# Plotting OFDMA\n",
    "for alpha in np.arange(0, 1, 0.01):  # bandwidth splitting factor\n",
    "    P1 = P / 4  # Equal power allocation to each user\n",
    "    P2 = P / 4  # Equal power allocation to each user\n",
    "    P3 = P / 4  # Equal power allocation to each user\n",
    "    P4 = P / 4  # Equal power allocation to each user\n",
    "    R1 = alpha * np.log2(1 + P1 * G1 / alpha)\n",
    "    R2 = (1 - alpha) * np.log2(1 + P2 * G2 / (1 - alpha))\n",
    "    R3 = alpha * np.log2(1 + P3 * G3 / alpha)\n",
    "    R4 = (1 - alpha) * np.log2(1 + P4 * G4 / (1 - alpha))\n",
    "    R1_values.append(R1)\n",
    "    R2_values.append(R2)\n",
    "    R3_values.append(R3)\n",
    "    R4_values.append(R4)\n",
    "\n",
    "plt.plot(R1_values, R2_values, 'k', label='OFDMA User 2')\n",
    "plt.plot(R1_values, R3_values, 'm', label='OFDMA User 3')\n",
    "plt.plot(R1_values, R4_values, 'c', label='OFDMA User 4')\n",
    "\n",
    "plt.xlabel('Rate of user 1 (bps/Hz)')\n",
    "plt.ylabel('Rate of other users (bps/Hz)')\n",
    "plt.grid(True)\n",
    "plt.legend()\n",
    "plt.show()\n"
   ]
  },
  {
   "cell_type": "code",
   "execution_count": null,
   "metadata": {},
   "outputs": [],
   "source": []
  }
 ],
 "metadata": {
  "kernelspec": {
   "display_name": "fyp",
   "language": "python",
   "name": "python3"
  },
  "language_info": {
   "codemirror_mode": {
    "name": "ipython",
    "version": 3
   },
   "file_extension": ".py",
   "mimetype": "text/x-python",
   "name": "python",
   "nbconvert_exporter": "python",
   "pygments_lexer": "ipython3",
   "version": "3.10.11"
  },
  "orig_nbformat": 4
 },
 "nbformat": 4,
 "nbformat_minor": 2
}
