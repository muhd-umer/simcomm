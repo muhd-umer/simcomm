{
 "cells": [
  {
   "attachments": {},
   "cell_type": "markdown",
   "metadata": {},
   "source": [
    "### Necessary Imports"
   ]
  },
  {
   "cell_type": "code",
   "execution_count": 1,
   "metadata": {},
   "outputs": [],
   "source": [
    "import numpy as np\n",
    "import matplotlib.pyplot as plt\n",
    "from utils import *\n",
    "import komm\n",
    "\n",
    "plt.style.use(\"default\")\n",
    "plt.rcParams[\"figure.figsize\"] = (6, 4)"
   ]
  },
  {
   "attachments": {},
   "cell_type": "markdown",
   "metadata": {},
   "source": [
    "### System Model"
   ]
  },
  {
   "attachments": {},
   "cell_type": "markdown",
   "metadata": {},
   "source": [
    "Defining Parameters"
   ]
  },
  {
   "cell_type": "code",
   "execution_count": 2,
   "metadata": {},
   "outputs": [],
   "source": [
    "# System parameters\n",
    "area = [-25, 25]  # area of the simulation m^2\n",
    "M = 4  # number of users\n",
    "N = 1  # number of base stations\n",
    "\n",
    "eta = 4  # path loss exponent\n",
    "Pt = np.linspace(-80, -20, 30)  # transmit power in dBm\n",
    "Pt_lin = 10 ** (Pt / 10) / 1000  # transmit power in linear scale\n",
    "\n",
    "bandwidth = 1e9  # bandwidth in Hz\n",
    "noise = -170 + 10 * np.log10(bandwidth)  # noise power in dBm\n",
    "noise_lin = 10 ** (noise / 10) / 1000  # noise power in linear scale\n",
    "K = 5 * 10**4  # number of bits to be transmitted"
   ]
  },
  {
   "attachments": {},
   "cell_type": "markdown",
   "metadata": {},
   "source": [
    "Placing Users"
   ]
  },
  {
   "cell_type": "code",
   "execution_count": 3,
   "metadata": {},
   "outputs": [
    {
     "data": {
      "image/png": "[encoded data removed]",
      "text/plain": [
       "<Figure size 600x400 with 1 Axes>"
      ]
     },
     "metadata": {},
     "output_type": "display_data"
    }
   ],
   "source": [
    "from matplotlib.markers import MarkerStyle\n",
    "\n",
    "# Create a network with base station at the origin\n",
    "bs = np.array([[0, 0]])\n",
    "d = np.array([20, 10, 5, 2])  # distance from base station\n",
    "\n",
    "theta = np.random.uniform(0, 2 * np.pi, size=M)\n",
    "x = d * np.cos(theta)\n",
    "y = d * np.sin(theta)\n",
    "users = np.column_stack((x, y))\n",
    "\n",
    "# Plot the network\n",
    "plt.scatter(bs[:, 0], bs[:, 1], label=\"Base station\")\n",
    "plt.scatter(\n",
    "    users[:, 0],\n",
    "    users[:, 1],\n",
    "    label=\"Users\",\n",
    "    marker=MarkerStyle(\"x\"),\n",
    "    color=\"r\",\n",
    ")\n",
    "plt.legend()\n",
    "plt.grid()\n",
    "plt.title(\"System Model\")\n",
    "plt.xlim([area[0], area[1]])\n",
    "plt.ylim([area[0], area[1]])\n",
    "plt.xlabel(\"x (m)\")\n",
    "plt.ylabel(\"y (m)\")\n",
    "plt.savefig(\"system_model.pdf\", bbox_inches=\"tight\")\n",
    "plt.show()"
   ]
  },
  {
   "cell_type": "code",
   "execution_count": 4,
   "metadata": {},
   "outputs": [
    {
     "name": "stdout",
     "output_type": "stream",
     "text": [
      "Distance Matrix:\n",
      "[[20.]\n",
      " [10.]\n",
      " [ 5.]\n",
      " [ 2.]]\n"
     ]
    }
   ],
   "source": [
    "distance_mat = np.sqrt(np.sum((users - bs[0]) ** 2, axis=1)).reshape(-1, 1)\n",
    "\n",
    "print(\"Distance Matrix:\")\n",
    "print(distance_mat)"
   ]
  },
  {
   "attachments": {},
   "cell_type": "markdown",
   "metadata": {},
   "source": [
    "### Generate Channel Matrices"
   ]
  },
  {
   "attachments": {},
   "cell_type": "markdown",
   "metadata": {},
   "source": [
    "Rayleigh Fading Coefficients and Gain Matrix"
   ]
  },
  {
   "cell_type": "code",
   "execution_count": 5,
   "metadata": {},
   "outputs": [
    {
     "name": "stdout",
     "output_type": "stream",
     "text": [
      "Channel Matrix:\n",
      "[[ 0.00075312-0.0041764j   0.00178874+0.00159135j  0.00058699-0.0004271j\n",
      "  ... -0.00037831+0.0005326j   0.00087312+0.00052957j\n",
      "  -0.00181689-0.00049265j]\n",
      " [ 0.00606814-0.00127966j -0.00458989-0.00563909j  0.01035709+0.01383998j\n",
      "  ... -0.00474839+0.00068191j  0.0003336 +0.00822167j\n",
      "   0.00308063-0.00539735j]\n",
      " [ 0.0041004 -0.04919992j -0.00326213-0.01238274j -0.00778986-0.02724929j\n",
      "  ...  0.0364536 +0.00615757j -0.01001064-0.01171466j\n",
      "  -0.01870478+0.01767342j]\n",
      " [ 0.14484336+0.17353561j  0.17444911+0.08459573j -0.12463142+0.1148078j\n",
      "  ...  0.0957971 +0.36765121j  0.30009482+0.39404832j\n",
      "  -0.11215222-0.25483553j]]\n",
      "\n",
      "Gain Matrix:\n",
      "[6.23136784e-06 9.86751214e-05 1.60563775e-03 6.24931758e-02]\n"
     ]
    }
   ],
   "source": [
    "h_mat = (\n",
    "    np.sqrt(distance_mat ** (-eta))\n",
    "    * (np.random.randn(M, K // 2) + 1j * np.random.randn(M, K // 2))\n",
    "    / np.sqrt(2)\n",
    ")\n",
    "\n",
    "print(\"Channel Matrix:\")\n",
    "print(h_mat)\n",
    "\n",
    "gain_mat = np.abs(h_mat) ** 2\n",
    "\n",
    "print(\"\\nGain Matrix:\")\n",
    "print(gain_mat.mean(axis=1))"
   ]
  },
  {
   "attachments": {},
   "cell_type": "markdown",
   "metadata": {},
   "source": [
    "Noise Matrix"
   ]
  },
  {
   "cell_type": "code",
   "execution_count": 6,
   "metadata": {},
   "outputs": [
    {
     "name": "stdout",
     "output_type": "stream",
     "text": [
      "Noise Matrix:\n",
      "[-1.36107205e-08+1.80574282e-08j -4.75856267e-09-2.13490123e-08j\n",
      " -1.48803403e-08-2.54926491e-08j  8.54512316e-09+4.58069384e-10j]\n"
     ]
    }
   ],
   "source": [
    "noise_mat = (\n",
    "    np.sqrt(noise_lin)\n",
    "    * (np.random.randn(M, K // 2) + 1j * np.random.randn(M, K // 2))\n",
    "    / np.sqrt(2)\n",
    ")\n",
    "\n",
    "print(\"Noise Matrix:\")\n",
    "print(noise_mat.mean(axis=1))"
   ]
  },
  {
   "attachments": {},
   "cell_type": "markdown",
   "metadata": {},
   "source": [
    "### Generating Data for Each User"
   ]
  },
  {
   "attachments": {},
   "cell_type": "markdown",
   "metadata": {},
   "source": [
    "Random Binary Data"
   ]
  },
  {
   "cell_type": "code",
   "execution_count": 7,
   "metadata": {},
   "outputs": [
    {
     "name": "stdout",
     "output_type": "stream",
     "text": [
      "Bits:\n",
      "[[1 1 1 ... 0 0 0]\n",
      " [1 1 0 ... 0 0 0]\n",
      " [1 0 0 ... 1 0 1]\n",
      " [1 1 1 ... 1 0 1]]\n"
     ]
    }
   ],
   "source": [
    "# Generate random message bits for each user\n",
    "x = np.random.randint(0, 2, size=(M, K))\n",
    "\n",
    "print(\"Bits:\")\n",
    "print(x)"
   ]
  },
  {
   "attachments": {},
   "cell_type": "markdown",
   "metadata": {},
   "source": [
    "QPSK Modulation"
   ]
  },
  {
   "cell_type": "code",
   "execution_count": 8,
   "metadata": {},
   "outputs": [
    {
     "name": "stdout",
     "output_type": "stream",
     "text": [
      "QPSK Symbols:\n",
      "[[-0.70710678-0.70710678j -0.70710678+0.70710678j  0.70710678-0.70710678j\n",
      "  ...  0.70710678-0.70710678j  0.70710678+0.70710678j\n",
      "   0.70710678+0.70710678j]\n",
      " [-0.70710678-0.70710678j  0.70710678+0.70710678j -0.70710678-0.70710678j\n",
      "  ...  0.70710678+0.70710678j -0.70710678+0.70710678j\n",
      "   0.70710678+0.70710678j]\n",
      " [-0.70710678+0.70710678j  0.70710678-0.70710678j  0.70710678-0.70710678j\n",
      "  ... -0.70710678-0.70710678j  0.70710678-0.70710678j\n",
      "   0.70710678-0.70710678j]\n",
      " [-0.70710678-0.70710678j -0.70710678+0.70710678j  0.70710678+0.70710678j\n",
      "  ... -0.70710678-0.70710678j  0.70710678-0.70710678j\n",
      "   0.70710678-0.70710678j]]\n"
     ]
    }
   ],
   "source": [
    "# Define the QPSK constellation\n",
    "QPSK = komm.PSKModulation(4, phase_offset=np.pi / 4)\n",
    "\n",
    "# Convert the input bits to QPSK symbols\n",
    "x_qpsk = np.zeros((M, K // 2), dtype=complex)\n",
    "for i in range(M):\n",
    "    x_qpsk[i] = QPSK.modulate(x[i])\n",
    "\n",
    "print(\"QPSK Symbols:\")\n",
    "print(x_qpsk)"
   ]
  },
  {
   "attachments": {},
   "cell_type": "markdown",
   "metadata": {},
   "source": [
    "### Allocation Factors"
   ]
  },
  {
   "cell_type": "code",
   "execution_count": 9,
   "metadata": {},
   "outputs": [],
   "source": [
    "# Create all possible combinations of allocation factors\n",
    "alpha_combinations = []\n",
    "for i in range(1, 101, 5):\n",
    "    for j in range(1, 101 - i, 5):\n",
    "        for k in range(1, 101 - i - j, 5):\n",
    "            l = 100 - i - j - k\n",
    "            new_alpha = np.array([i / 100, j / 100, k / 100, l / 100])\n",
    "            if np.abs(np.sum(new_alpha) - 1) < 1e-9 and np.all(new_alpha > 0):\n",
    "                alpha_combinations.append(new_alpha)"
   ]
  },
  {
   "cell_type": "code",
   "execution_count": 10,
   "metadata": {},
   "outputs": [],
   "source": [
    "noma_sumrates, noma_userrates = zip(\n",
    "    *[\n",
    "        calculate_noma_rate(M, K, Pt_lin, combination, gain_mat, noise_lin)\n",
    "        for combination in alpha_combinations\n",
    "    ]\n",
    ")\n",
    "noma_sumrates = np.array(noma_sumrates)\n",
    "noma_userrates = np.array(noma_userrates)"
   ]
  },
  {
   "cell_type": "code",
   "execution_count": 11,
   "metadata": {},
   "outputs": [
    {
     "name": "stdout",
     "output_type": "stream",
     "text": [
      "Maximum Achievable Sum Rate:\n",
      "3.7715036777398154 bps/Hz\n",
      "\n",
      "Optimal Allocation Matrix:\n",
      "[0.01 0.06 0.46 0.47]\n"
     ]
    }
   ],
   "source": [
    "# Define power allocation coefficients\n",
    "# to count user unfairness\n",
    "alpha = np.array([0.55, 0.3, 0.15, 0.05])\n",
    "\n",
    "# Find the allocation matrix yielding the highest achievable rate\n",
    "max_index = np.argmax(noma_sumrates)\n",
    "max_alpha = alpha_combinations[max_index]\n",
    "\n",
    "print(\"Maximum Achievable Sum Rate:\")\n",
    "print(max(noma_sumrates[max_index]), \"bps/Hz\")\n",
    "\n",
    "print(\"\\nOptimal Allocation Matrix:\")\n",
    "print(max_alpha)"
   ]
  },
  {
   "cell_type": "code",
   "execution_count": 12,
   "metadata": {},
   "outputs": [],
   "source": [
    "_, unfair_userrates = calculate_noma_rate(M, K, Pt_lin[-1], max_alpha, gain_mat, noise_lin)\n",
    "_, fair_userrates = calculate_noma_rate(M, K, Pt_lin[-1], alpha, gain_mat, noise_lin)"
   ]
  },
  {
   "cell_type": "code",
   "execution_count": 13,
   "metadata": {},
   "outputs": [
    {
     "data": {
      "image/png": "[encoded data removed]",
      "text/plain": [
       "<Figure size 600x400 with 1 Axes>"
      ]
     },
     "metadata": {},
     "output_type": "display_data"
    }
   ],
   "source": [
    "# Define user labels and x positions\n",
    "user_labels = [\"User 1 (Furthest)\", \"User 2\", \"User 3\", \"User 4 (Nearest)\"]\n",
    "x_positions = np.arange(len(user_labels))\n",
    "bar_width = 0.4\n",
    "\n",
    "# Each axis of userrates is the rate of a user\n",
    "fig, ax = plt.subplots()\n",
    "rects1 = ax.bar(\n",
    "    x_positions - bar_width / 2,\n",
    "    unfair_userrates.mean(axis=1),\n",
    "    bar_width,\n",
    "    label=\"Unfair - Max Allocation\",\n",
    ")\n",
    "rects2 = ax.bar(\n",
    "    x_positions + bar_width / 2,\n",
    "    fair_userrates.mean(axis=1),\n",
    "    bar_width,\n",
    "    label=\"Fair - Fixed Allocation\",\n",
    ")\n",
    "plt.xticks(x_positions, user_labels)\n",
    "plt.ylabel(\"Average Rate (bps/Hz)\")\n",
    "plt.title(\"Fairness Comparison\")\n",
    "plt.legend()\n",
    "plt.savefig(\"fairness_comparison.pdf\", bbox_inches=\"tight\")\n",
    "plt.show()"
   ]
  },
  {
   "cell_type": "code",
   "execution_count": 14,
   "metadata": {},
   "outputs": [],
   "source": [
    "# Define bandwidth allocation coefficients\n",
    "beta_ofdma = (bandwidth / M) / bandwidth  # Bandwidth per user for OFDMA"
   ]
  },
  {
   "attachments": {},
   "cell_type": "markdown",
   "metadata": {},
   "source": [
    "### Transmitting and Receiving Data"
   ]
  },
  {
   "attachments": {},
   "cell_type": "markdown",
   "metadata": {},
   "source": [
    "Superposition Coded Signal"
   ]
  },
  {
   "cell_type": "code",
   "execution_count": 15,
   "metadata": {},
   "outputs": [
    {
     "name": "stdout",
     "output_type": "stream",
     "text": [
      "Superposition Coded Symbols:\n",
      "[-1.34367792-0.79595536j -0.02135869+0.79595536j  0.56908125-1.02745015j\n",
      " ...  0.4797276 -0.56908125j  0.56908125+0.4797276j\n",
      "  1.34367792+0.4797276j ]\n"
     ]
    }
   ],
   "source": [
    "# Superposition coding\n",
    "x_sc = (\n",
    "    np.sqrt(alpha[0]) * x_qpsk[0]\n",
    "    + np.sqrt(alpha[1]) * x_qpsk[1]\n",
    "    + np.sqrt(alpha[2]) * x_qpsk[2]\n",
    "    + np.sqrt(alpha[3]) * x_qpsk[3]\n",
    ")\n",
    "\n",
    "print(\"Superposition Coded Symbols:\")\n",
    "print(x_sc)"
   ]
  },
  {
   "attachments": {},
   "cell_type": "markdown",
   "metadata": {},
   "source": [
    "Received Signal"
   ]
  },
  {
   "cell_type": "code",
   "execution_count": 16,
   "metadata": {},
   "outputs": [
    {
     "name": "stdout",
     "output_type": "stream",
     "text": [
      "Equalized Symbols:\n",
      "(30, 4, 25000)\n"
     ]
    }
   ],
   "source": [
    "y = np.zeros((len(Pt), M, K // 2), dtype=complex)\n",
    "for i in range(len(Pt)):\n",
    "    y[i] = np.sqrt(Pt_lin[i]) * x_sc * h_mat + noise_mat\n",
    "\n",
    "# Perform equalization\n",
    "y_eq = np.zeros((len(Pt), M, K // 2), dtype=complex)\n",
    "for i in range(len(Pt)):\n",
    "    for j in range(M):\n",
    "        y_eq[i, j] = y[i, j] / h_mat[j]\n",
    "\n",
    "print(\"Equalized Symbols:\")\n",
    "print(y_eq.shape)"
   ]
  },
  {
   "attachments": {},
   "cell_type": "markdown",
   "metadata": {},
   "source": [
    "### NOMA vs OFDMA Capacity"
   ]
  },
  {
   "attachments": {},
   "cell_type": "markdown",
   "metadata": {},
   "source": [
    "Compute NOMA and OFDMA Sum Capacity"
   ]
  },
  {
   "cell_type": "code",
   "execution_count": 17,
   "metadata": {},
   "outputs": [],
   "source": [
    "noma_sumrate, _ = calculate_noma_rate(M, K, Pt_lin, alpha, gain_mat, noise_lin)\n",
    "ofdma_sumrate, _ = calculate_ofdma_rate(M, K, Pt_lin, gain_mat, noise_lin, beta_ofdma)"
   ]
  },
  {
   "cell_type": "code",
   "execution_count": 18,
   "metadata": {},
   "outputs": [
    {
     "data": {
      "image/png": "[encoded data removed]",
      "text/plain": [
       "<Figure size 600x400 with 1 Axes>"
      ]
     },
     "metadata": {},
     "output_type": "display_data"
    }
   ],
   "source": [
    "# Plot the sum capacity of NOMA and OFDMA vs SNR\n",
    "SNR = Pt - noise\n",
    "plt.figure()\n",
    "plt.plot(SNR, noma_sumrate, linewidth=2)\n",
    "plt.plot(SNR, ofdma_sumrate, linewidth=2)\n",
    "plt.xlabel(\"SNR (dB)\")\n",
    "plt.ylabel(\"Sum Rate (bps/Hz)\")\n",
    "plt.legend([\"NOMA\", \"OFDMA\"])\n",
    "plt.title(\"Capacity of NOMA vs OFDMA\")\n",
    "plt.ylim([0, max(noma_sumrate) + 1])\n",
    "plt.grid(True)\n",
    "plt.savefig(\"noma_vs_ofdma.pdf\", bbox_inches=\"tight\")\n",
    "plt.show()"
   ]
  },
  {
   "attachments": {},
   "cell_type": "markdown",
   "metadata": {},
   "source": [
    "### Decoding with SIC"
   ]
  },
  {
   "cell_type": "code",
   "execution_count": null,
   "metadata": {},
   "outputs": [],
   "source": [
    "x_hat = np.zeros((len(Pt), M, K), dtype=int)\n",
    "\n",
    "for i in range(len(Pt)):\n",
    "    # Perform decoding of signal at user 1\n",
    "    x_hat[i, 0] = QPSK.demodulate(y_eq[i, 0])  # Direct decoding\n",
    "\n",
    "    # Perform decoding of signal at user 2\n",
    "    u1_hat = QPSK.demodulate(y_eq[i, 1])  # Decode user 1 signal\n",
    "    u1_remod = QPSK.modulate(u1_hat)  # Remodulate user 1 signal\n",
    "    rem_u1 = y_eq[i, 1] - (np.sqrt(alpha[0] * Pt_lin[i]) * u1_remod)\n",
    "    x_hat[i, 1] = QPSK.demodulate(rem_u1)  # Decode user 2 signal\n",
    "\n",
    "    # Perform decoding of signal at user 3\n",
    "    u1_hat = QPSK.demodulate(y_eq[i, 2])  # Decode user 1 signal\n",
    "    u1_remod = QPSK.modulate(u1_hat)  # Remodulate user 1 signal\n",
    "    u2_hat = QPSK.demodulate(\n",
    "        y_eq[i, 2] - (np.sqrt(alpha[0] * Pt_lin[i]) * u1_remod)\n",
    "    )  # Decode user 2 signal\n",
    "    u2_remod = QPSK.modulate(u2_hat)  # Remodulate user 2 signal\n",
    "    x_hat[i, 2] = QPSK.demodulate(\n",
    "        y_eq[i, 2]\n",
    "        - (np.sqrt(alpha[0] * Pt_lin[i]) * u1_remod)\n",
    "        - (np.sqrt(alpha[1] * Pt_lin[i]) * u2_remod)\n",
    "    )  # Decode user 3 signal\n",
    "\n",
    "    # Perform decoding of signal at user 4\n",
    "    u1_hat = QPSK.demodulate(y_eq[i, 3])  # Decode user 1 signal\n",
    "    u1_remod = QPSK.modulate(u1_hat)  # Remodulate user 1 signal\n",
    "    u2_hat = QPSK.demodulate(\n",
    "        y_eq[i, 3] - (np.sqrt(alpha[0] * Pt_lin[i]) * u1_remod)\n",
    "    )  # Decode user 2 signal\n",
    "    u2_remod = QPSK.modulate(u2_hat)  # Remodulate user 2 signal\n",
    "    u3_hat = QPSK.demodulate(\n",
    "        y_eq[i, 3]\n",
    "        - (np.sqrt(alpha[0] * Pt_lin[i]) * u1_remod)\n",
    "        - (np.sqrt(alpha[1] * Pt_lin[i]) * u2_remod)\n",
    "    )  # Decode user 3 signal\n",
    "    u3_remod = QPSK.modulate(u3_hat)  # Remodulate user 3 signal\n",
    "    x_hat[i, 3] = QPSK.demodulate(\n",
    "        y_eq[i, 3]\n",
    "        - (np.sqrt(alpha[0] * Pt_lin[i]) * u1_remod)\n",
    "        - (np.sqrt(alpha[1] * Pt_lin[i]) * u2_remod)\n",
    "        - (np.sqrt(alpha[2] * Pt_lin[i]) * u3_remod)\n",
    "    )  # Decode user 4 signal\n",
    "\n",
    "print(\"Decoded Bits:\")\n",
    "print(x_hat)"
   ]
  }
 ],
 "metadata": {
  "kernelspec": {
   "display_name": "fyp",
   "language": "python",
   "name": "python3"
  },
  "language_info": {
   "codemirror_mode": {
    "name": "ipython",
    "version": 3
   },
   "file_extension": ".py",
   "mimetype": "text/x-python",
   "name": "python",
   "nbconvert_exporter": "python",
   "pygments_lexer": "ipython3",
   "version": "3.10.11"
  },
  "orig_nbformat": 4
 },
 "nbformat": 4,
 "nbformat_minor": 2
}
