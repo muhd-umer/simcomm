{
 "cells": [
  {
   "attachments": {},
   "cell_type": "markdown",
   "metadata": {},
   "source": [
    "### Necessary Imports"
   ]
  },
  {
   "cell_type": "code",
   "execution_count": null,
   "metadata": {},
   "outputs": [],
   "source": [
    "import numpy as np\n",
    "import matplotlib.pyplot as plt\n",
    "import komm\n",
    "\n",
    "plt.style.use(\"default\")\n",
    "plt.rcParams[\"figure.figsize\"] = (6, 4)"
   ]
  },
  {
   "attachments": {},
   "cell_type": "markdown",
   "metadata": {},
   "source": [
    "### Defining System"
   ]
  },
  {
   "cell_type": "code",
   "execution_count": null,
   "metadata": {},
   "outputs": [],
   "source": [
    "# System parameters\n",
    "area = [-1500, 1500]  # area of the simulation m^2\n",
    "M = 4  # number of users\n",
    "N = 1  # number of base stations\n",
    "\n",
    "eta = 4  # path loss exponent\n",
    "Pt = np.linspace(0, 40, 20)  # transmit power in dBm\n",
    "Pt_lin = 10 ** (Pt / 10) / 1000  # transmit power in linear scale\n",
    "\n",
    "bandwidth = 1e6  # bandwidth in Hz\n",
    "noise = -174 + 10 * np.log10(bandwidth)  # noise power in dBm\n",
    "noise_lin = 10 ** (noise / 10) / 1000  # noise power in linear scale\n",
    "K = 5 * 10**4  # number of bits to be transmitted"
   ]
  },
  {
   "cell_type": "code",
   "execution_count": null,
   "metadata": {},
   "outputs": [],
   "source": [
    "from matplotlib.markers import MarkerStyle\n",
    "\n",
    "# Create a network with base station at the origin\n",
    "bs = np.array([[0, 0]])\n",
    "d = np.array([1000, 500, 200, 50])  # distance from base station\n",
    "\n",
    "# or let distance be random\n",
    "# d = np.random.uniform(0, RADIUS, size=M)\n",
    "\n",
    "theta = np.random.uniform(0, 2 * np.pi, size=M)\n",
    "users = np.zeros((M, 2))\n",
    "\n",
    "for i in range(M):\n",
    "    x = d[i] * np.cos(theta[i])\n",
    "    y = d[i] * np.sin(theta[i])\n",
    "    users[i] = np.array([x, y])\n",
    "\n",
    "# Plot the network\n",
    "plt.scatter(bs[:, 0], bs[:, 1], label=\"Base station\")\n",
    "plt.scatter(\n",
    "    users[:, 0],\n",
    "    users[:, 1],\n",
    "    label=\"Users\",\n",
    "    marker=MarkerStyle(\"x\"),\n",
    "    color=\"r\",\n",
    ")\n",
    "plt.legend()\n",
    "plt.grid()\n",
    "plt.title(\"System Model\")\n",
    "plt.xlim([-1500, 1500])\n",
    "plt.ylim([-1500, 1500])\n",
    "plt.show()"
   ]
  },
  {
   "cell_type": "code",
   "execution_count": null,
   "metadata": {},
   "outputs": [],
   "source": [
    "def euclidean_distance(x1, y1, x2, y2):\n",
    "    distance = np.sqrt((x2 - x1) ** 2 + (y2 - y1) ** 2)\n",
    "    return distance\n",
    "\n",
    "distance_mat = np.zeros((M,), dtype=float)\n",
    "for i in range(M):\n",
    "    distance_mat[i] = euclidean_distance(users[i, 0], users[i, 1], bs[0, 0], bs[0, 1])\n",
    "\n",
    "print(\"Distance Matrix:\")\n",
    "print(distance_mat)"
   ]
  },
  {
   "cell_type": "code",
   "execution_count": null,
   "metadata": {},
   "outputs": [],
   "source": [
    "h_mat = np.zeros((M, K // 2), dtype=complex)"
   ]
  },
  {
   "cell_type": "code",
   "execution_count": null,
   "metadata": {},
   "outputs": [],
   "source": [
    "# Generate Rayleigh fading coefficients for each user\n",
    "h_mat = np.zeros((M, K // 2), dtype=complex)\n",
    "\n",
    "for i in range(M):\n",
    "    h_mat[i] = (\n",
    "        np.sqrt(distance_mat[i] ** (-eta))\n",
    "        * (np.random.randn(K // 2) + 1j * np.random.randn(K // 2))\n",
    "        / np.sqrt(2)\n",
    "    )\n",
    "\n",
    "print(\"Channel Matrix:\")\n",
    "print(h_mat.mean(axis=1))"
   ]
  },
  {
   "cell_type": "code",
   "execution_count": null,
   "metadata": {},
   "outputs": [],
   "source": [
    "noise_mat = (\n",
    "    np.sqrt(noise_lin)\n",
    "    * (np.random.randn(M, K // 2) + 1j * np.random.randn(M, K // 2))\n",
    "    / np.sqrt(2)\n",
    ")\n",
    "\n",
    "print(\"Noise Matrix:\")\n",
    "print(noise_mat.mean(axis=1))"
   ]
  },
  {
   "cell_type": "code",
   "execution_count": null,
   "metadata": {},
   "outputs": [],
   "source": [
    "# Generate random message bits for each user\n",
    "x = np.random.randint(0, 2, size=(M, K))\n",
    "\n",
    "print(\"Bits:\")\n",
    "print(x)"
   ]
  },
  {
   "cell_type": "code",
   "execution_count": null,
   "metadata": {},
   "outputs": [],
   "source": [
    "# Define the QPSK constellation\n",
    "QPSK = komm.PSKModulation(4, phase_offset=np.pi / 4)\n",
    "\n",
    "# Convert the input bits to QPSK symbols\n",
    "x_qpsk = np.zeros((M, K // 2), dtype=complex)\n",
    "for i in range(M):\n",
    "    x_qpsk[i] = QPSK.modulate(x[i])\n",
    "\n",
    "print(\"QPSK Symbols:\")\n",
    "print(x_qpsk)"
   ]
  },
  {
   "cell_type": "code",
   "execution_count": null,
   "metadata": {},
   "outputs": [],
   "source": [
    "# Define power allocation coefficients\n",
    "alpha = np.array([0.7, 0.15, 0.1, 0.05])"
   ]
  },
  {
   "cell_type": "code",
   "execution_count": null,
   "metadata": {},
   "outputs": [],
   "source": [
    "# Superposition coding\n",
    "x_sc = (\n",
    "    np.sqrt(alpha[0]) * x_qpsk[0]\n",
    "    + np.sqrt(alpha[1]) * x_qpsk[1]\n",
    "    + np.sqrt(alpha[2]) * x_qpsk[2]\n",
    "    + np.sqrt(alpha[3]) * x_qpsk[3]\n",
    ")\n",
    "\n",
    "print(\"Superposition Coded Symbols:\")\n",
    "print(x_sc)"
   ]
  },
  {
   "cell_type": "code",
   "execution_count": null,
   "metadata": {},
   "outputs": [],
   "source": [
    "# Compute the received signal\n",
    "y = np.zeros((len(Pt), M, K // 2), dtype=complex)\n",
    "for i in range(len(Pt)):\n",
    "    y[i] = np.sqrt(Pt_lin[i]) * x_sc * h_mat + noise_mat\n",
    "\n",
    "# Perform equalization\n",
    "y_eq = np.zeros((len(Pt), M, K // 2), dtype=complex)\n",
    "for i in range(len(Pt)):\n",
    "    for j in range(M):\n",
    "        y_eq[i, j] = y[i, j] / h_mat[j]"
   ]
  },
  {
   "cell_type": "code",
   "execution_count": null,
   "metadata": {},
   "outputs": [],
   "source": [
    "x_hat = np.zeros((len(Pt), M, K), dtype=int)\n",
    "\n",
    "for i in range(len(Pt)):\n",
    "    # Perform decoding of signal at user 1\n",
    "    x_hat[i, 0] = QPSK.demodulate(y_eq[i, 0])  # Direct decoding\n",
    "\n",
    "    # Perform decoding of signal at user 2\n",
    "    u1_hat = QPSK.demodulate(y_eq[i, 1])  # Decode user 1 signal\n",
    "    u1_remod = QPSK.modulate(u1_hat)  # Remodulate user 1 signal\n",
    "    rem_u1 = y_eq[i, 1] - (np.sqrt(alpha[0] * Pt_lin[i]) * u1_remod)\n",
    "    x_hat[i, 1] = QPSK.demodulate(rem_u1)  # Decode user 2 signal\n",
    "\n",
    "    # Perform decoding of signal at user 3\n",
    "    u1_hat = QPSK.demodulate(y_eq[i, 2])  # Decode user 1 signal\n",
    "    u1_remod = QPSK.modulate(u1_hat)  # Remodulate user 1 signal\n",
    "    u2_hat = QPSK.demodulate(\n",
    "        y_eq[i, 2] - (np.sqrt(alpha[0] * Pt_lin[i]) * u1_remod)\n",
    "    )  # Decode user 2 signal\n",
    "    u2_remod = QPSK.modulate(u2_hat)  # Remodulate user 2 signal\n",
    "    x_hat[i, 2] = QPSK.demodulate(\n",
    "        y_eq[i, 2]\n",
    "        - (np.sqrt(alpha[0] * Pt_lin[i]) * u1_remod)\n",
    "        - (np.sqrt(alpha[1] * Pt_lin[i]) * u2_remod)\n",
    "    )  # Decode user 3 signal\n",
    "\n",
    "    # Perform decoding of signal at user 4\n",
    "    u1_hat = QPSK.demodulate(y_eq[i, 3])  # Decode user 1 signal\n",
    "    u1_remod = QPSK.modulate(u1_hat)  # Remodulate user 1 signal\n",
    "    u2_hat = QPSK.demodulate(\n",
    "        y_eq[i, 3] - (np.sqrt(alpha[0] * Pt_lin[i]) * u1_remod)\n",
    "    )  # Decode user 2 signal\n",
    "    u2_remod = QPSK.modulate(u2_hat)  # Remodulate user 2 signal\n",
    "    u3_hat = QPSK.demodulate(\n",
    "        y_eq[i, 3]\n",
    "        - (np.sqrt(alpha[0] * Pt_lin[i]) * u1_remod)\n",
    "        - (np.sqrt(alpha[1] * Pt_lin[i]) * u2_remod)\n",
    "    )  # Decode user 3 signal\n",
    "    u3_remod = QPSK.modulate(u3_hat)  # Remodulate user 3 signal\n",
    "    x_hat[i, 3] = QPSK.demodulate(\n",
    "        y_eq[i, 3]\n",
    "        - (np.sqrt(alpha[0] * Pt_lin[i]) * u1_remod)\n",
    "        - (np.sqrt(alpha[1] * Pt_lin[i]) * u2_remod)\n",
    "        - (np.sqrt(alpha[2] * Pt_lin[i]) * u3_remod)\n",
    "    )  # Decode user 4 signal\n",
    "\n",
    "print(\"Decoded Bits:\")\n",
    "print(x_hat)"
   ]
  }
 ],
 "metadata": {
  "kernelspec": {
   "display_name": "fyp",
   "language": "python",
   "name": "python3"
  },
  "language_info": {
   "codemirror_mode": {
    "name": "ipython",
    "version": 3
   },
   "file_extension": ".py",
   "mimetype": "text/x-python",
   "name": "python",
   "nbconvert_exporter": "python",
   "pygments_lexer": "ipython3",
   "version": "3.10.11"
  },
  "orig_nbformat": 4
 },
 "nbformat": 4,
 "nbformat_minor": 2
}
